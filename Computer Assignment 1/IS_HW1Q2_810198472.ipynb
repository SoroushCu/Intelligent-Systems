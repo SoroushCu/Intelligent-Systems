{
 "cells": [
  {
   "cell_type": "markdown",
   "metadata": {},
   "source": [
    "## Intelligent Systems - HW1\n",
    "### Soroush Mesforush Mashhad\n",
    "#### SID: 810198472"
   ]
  },
  {
   "cell_type": "markdown",
   "metadata": {},
   "source": [
    "### Question 2\n"
   ]
  },
  {
   "cell_type": "markdown",
   "metadata": {},
   "source": [
    "## Part A :\n",
    "Has been included in the report file"
   ]
  },
  {
   "cell_type": "markdown",
   "metadata": {},
   "source": [
    "## Part B :Newton Method Implementation"
   ]
  },
  {
   "cell_type": "code",
   "execution_count": 15,
   "metadata": {},
   "outputs": [],
   "source": [
    "import numpy as np\n",
    "import pandas as pd \n",
    "import seaborn as sn\n",
    "import matplotlib.pyplot as plt\n",
    "import warnings\n",
    "import random\n",
    "import os"
   ]
  },
  {
   "cell_type": "markdown",
   "metadata": {},
   "source": [
    "To have better discipline in coding, we shall split the program into different functions."
   ]
  },
  {
   "cell_type": "code",
   "execution_count": 16,
   "metadata": {},
   "outputs": [],
   "source": [
    "def func(x1, x2):\n",
    "    return 2*x1**2 + 2*x2**2 - 17*x2*np.cos(0.2*np.pi*x1) - x1*x2"
   ]
  },
  {
   "cell_type": "code",
   "execution_count": 17,
   "metadata": {},
   "outputs": [],
   "source": [
    "def Hessian (x1,x2):\n",
    "    dfdx11 = 4 + 0.68*np.pi*np.pi*x2*np.cos(0.2*np.pi*x1)\n",
    "    dfdx12 = -1\n",
    "    dfdx21 = 3.4*np.pi*np.sin(0.2*np.pi*x1) - 1\n",
    "    dfdx22 = 4\n",
    "    return dfdx11 , dfdx12 , dfdx21 , dfdx22"
   ]
  },
  {
   "cell_type": "code",
   "execution_count": 18,
   "metadata": {},
   "outputs": [],
   "source": [
    "def HessianInv(dfdx11 , dfdx12 , dfdx21 , dfdx22):\n",
    "    Det = dfdx11 * dfdx22 - dfdx12*dfdx21\n",
    "    dfdx11new = dfdx22/Det\n",
    "    dfdx12new = -dfdx12/Det\n",
    "    dfdx21new = -dfdx21/Det\n",
    "    dfdx22new = dfdx11/Det\n",
    "    return dfdx11new , dfdx12new , dfdx21new , dfdx22new"
   ]
  },
  {
   "cell_type": "code",
   "execution_count": 19,
   "metadata": {},
   "outputs": [],
   "source": [
    "def Gradient (x1,x2):\n",
    "    dfdx1 = 4*x1 + 3.4*np.pi * x2 *np.sin(0.2*np.pi *x1) - x2\n",
    "    dfdx2 = 4*x2 - 17*np.cos(0.2*np.pi*x1)-x1\n",
    "    return dfdx1 , dfdx2"
   ]
  },
  {
   "cell_type": "code",
   "execution_count": 22,
   "metadata": {},
   "outputs": [],
   "source": [
    "def NewtonMethod(x1,x2,iterations):\n",
    "    for i in range(iterations):\n",
    "        dfdx11 , dfdx12 , dfdx21 , dfdx22 = Hessian(x1,x2)\n",
    "        dfdx11new , dfdx12new , dfdx21new , dfdx22new = HessianInv(dfdx11 , dfdx12 , dfdx21 , dfdx22)\n",
    "        dfdx1 , dfdx2 = Gradient(x1,x2)\n",
    "        x1 = x1 - (dfdx11new*dfdx1 + dfdx12new*dfdx2)\n",
    "        x2 = x2 - (dfdx21new*dfdx1 + dfdx22new*dfdx2)\n",
    "    return x1 , x2"
   ]
  },
  {
   "cell_type": "markdown",
   "metadata": {},
   "source": [
    "Now we shall go on to finding the minimum value"
   ]
  },
  {
   "cell_type": "code",
   "execution_count": 23,
   "metadata": {},
   "outputs": [
    {
     "name": "stdout",
     "output_type": "stream",
     "text": [
      "x1 is : 0.13087466007249957 and x2 is : 4.268357652256218(after 100 iterations)\n",
      "The Minimum Value for the function is : -36.40349774185023 (after 100 iterations)\n"
     ]
    }
   ],
   "source": [
    "x1=1  \n",
    "x2=3\n",
    "iterations = 100\n",
    "x1 , x2 = NewtonMethod(x1,x2,iterations)\n",
    "MinVal = func(x1,x2)\n",
    "print(f\"x1 is : {x1} and x2 is : {x2}(after {iterations} iterations)\")\n",
    "print(f\"The Minimum Value for the function is : {MinVal} (after {iterations} iterations)\")"
   ]
  },
  {
   "cell_type": "markdown",
   "metadata": {},
   "source": [
    "Now we go on to plot the wanted shape"
   ]
  },
  {
   "cell_type": "code",
   "execution_count": 24,
   "metadata": {},
   "outputs": [
    {
     "name": "stdout",
     "output_type": "stream",
     "text": [
      "The range for x1 is :\n",
      " [-5.  -4.5 -4.  -3.5 -3.  -2.5 -2.  -1.5 -1.  -0.5  0.   0.5  1.   1.5\n",
      "  2.   2.5  3.   3.5  4.   4.5  5. ]\n",
      "The range for x2 is :\n",
      " [ 0.   0.5  1.   1.5  2.   2.5  3.   3.5  4.   4.5  5.   5.5  6.   6.5\n",
      "  7.   7.5  8.   8.5  9.   9.5 10. ]\n"
     ]
    }
   ],
   "source": [
    "#First we define the arrays for x1 and x2 with stepsize = 0.5\n",
    "step = 0.5\n",
    "rangex1 = np.linspace(-5,5,num=21)\n",
    "rangex2 = np.linspace(0,10,num=21)\n",
    "print(f\"The range for x1 is :\\n {rangex1}\")\n",
    "print(f\"The range for x2 is :\\n {rangex2}\")"
   ]
  },
  {
   "cell_type": "code",
   "execution_count": 36,
   "metadata": {},
   "outputs": [],
   "source": [
    "#We know that we want to plot x2 in terms of x1 hence we need a new array\n",
    "Plt = []\n",
    "#Since we want to classify the data into three different categories we\n",
    "#make the following agreement:\n",
    "# Close -1 , Far = 0 , Farthest = 1\n",
    "# We also create a new array to save these things in it\n",
    "StateChecker = []\n",
    "for x1 in rangex1:\n",
    "    for x2 in rangex2:\n",
    "        x1new , x2new = NewtonMethod(x1,x2,100)\n",
    "        distance = np.abs(func(x1new, x2new) - (-36.4))\n",
    "        if distance < 15:\n",
    "            StateChecker.append(-1)\n",
    "        elif distance < 150:\n",
    "            StateChecker.append(0)\n",
    "        else:\n",
    "            StateChecker.append(1)\n",
    "        Plt.append([x1,x2])"
   ]
  },
  {
   "cell_type": "code",
   "execution_count": 45,
   "metadata": {},
   "outputs": [
    {
     "data": {
      "text/plain": [
       "<matplotlib.legend.Legend at 0x2e359906730>"
      ]
     },
     "execution_count": 45,
     "metadata": {},
     "output_type": "execute_result"
    },
    {
     "data": {
      "image/png": "[encoded data removed]",
      "text/plain": [
       "<Figure size 576x576 with 1 Axes>"
      ]
     },
     "metadata": {
      "needs_background": "light"
     },
     "output_type": "display_data"
    }
   ],
   "source": [
    "plt.figure(figsize=(8,8))\n",
    "plt.title('Scatter plot based on distance')\n",
    "plotlength = len(Plt)\n",
    "for i in range(plotlength):\n",
    "    x1,x2 = Plt[i]\n",
    "    if StateChecker[i] == -1:\n",
    "        plt.scatter(x1,x2,color = 'y')\n",
    "    elif StateChecker[i] == 0:\n",
    "        plt.scatter(x1,x2,color = 'b')\n",
    "    elif StateChecker[i] == 1:\n",
    "        plt.scatter(x1,x2,color = 'g')\n",
    "plt.legend(['Close','Farther','Far'],loc='upper left')"
   ]
  },
  {
   "cell_type": "markdown",
   "metadata": {},
   "source": [
    "## Part C : The Genetic Algorithm"
   ]
  },
  {
   "cell_type": "markdown",
   "metadata": {},
   "source": [
    "Here we shall implement the genetic algorithm to find the local minimum of our given function"
   ]
  },
  {
   "cell_type": "code",
   "execution_count": 50,
   "metadata": {},
   "outputs": [],
   "source": [
    "#What we shall optimize\n",
    "def Func(x1, x2):\n",
    "    return 2*x1**2 + 2*x2**2 - 17*x2*np.cos(0.2*np.pi*x1) - x1*x2 + 36.4"
   ]
  },
  {
   "cell_type": "code",
   "execution_count": 51,
   "metadata": {},
   "outputs": [],
   "source": [
    "#The fitness function we use.\n",
    "def FitnessFunc(x1,x2):\n",
    "    Fit = Func(x1,x2)\n",
    "    if Fit==0:\n",
    "        return 100000\n",
    "    else:\n",
    "        return abs(1/Fit)"
   ]
  },
  {
   "cell_type": "markdown",
   "metadata": {},
   "source": [
    "We shall initialize the answers of our opitimization problem"
   ]
  },
  {
   "cell_type": "code",
   "execution_count": 55,
   "metadata": {},
   "outputs": [
    {
     "name": "stdout",
     "output_type": "stream",
     "text": [
      "[[12.869902208791459, -11.499193575917133], [14.123658437897014, -2.2615601678641557], [-8.779448725416717, 2.3047111499210295], [-9.084817440577986, 14.327303737169288], [7.200711603416298, -8.499776573544679]]\n",
      "-7.903688851010439\n",
      "-1.1891577934183104\n"
     ]
    }
   ],
   "source": [
    "#We generate an arbitrary number for the length of the answers\n",
    "Anslength = 750\n",
    "Ans = []\n",
    "for i in range(Anslength):\n",
    "    randx1 = random.uniform(-15,15)\n",
    "    randx2 = random.uniform(-15,15)\n",
    "    Ans.append([randx1,randx2])\n",
    "print(Ans[:5])\n",
    "print(randx1)\n",
    "print(randx2)"
   ]
  },
  {
   "cell_type": "code",
   "execution_count": 56,
   "metadata": {
    "scrolled": true
   },
   "outputs": [
    {
     "name": "stdout",
     "output_type": "stream",
     "text": [
      "0\n",
      "x1 = \n",
      "0.11895953539174675\n",
      "x2 = \n",
      "4.2435585147612045\n",
      "The value is :\n",
      "-36.40000482314009\n"
     ]
    }
   ],
   "source": [
    "for k in range(Anslength*5):\n",
    "    OrderedSolution = []\n",
    "    for i in Ans:\n",
    "        OrderedSolution.append((FitnessFunc(i[0],i[1]),i))\n",
    "    OrderedSolution.sort()\n",
    "    OrderedSolution.reverse()\n",
    "    if OrderedSolution[0][0] > 100000:\n",
    "        break\n",
    "    OptimumSols = OrderedSolution[:int(Anslength/2)]    \n",
    "    BestParamArr = []\n",
    "    for u in OptimumSols:\n",
    "        BestParamArr.append(u[1][0])\n",
    "        BestParamArr.append(u[1][1])\n",
    "    NewSols = []\n",
    "    counter = 0\n",
    "    while counter<Anslength*5:\n",
    "        NewSols.append((random.choice(BestParamArr)*random.uniform(0.98,1.02),random.choice(BestParamArr)*random.uniform(0.98,1.02)))\n",
    "        counter+=1\n",
    "    Ans = NewSols\n",
    "    if k%1000 ==0:\n",
    "        print(k)\n",
    "x = OrderedSolution[0][1]\n",
    "print('x1 = ')\n",
    "print(x[0])\n",
    "print('x2 = ')\n",
    "print(x[1])\n",
    "Val = Func(x[0],x[1]) - 36.4\n",
    "print(\"The value is :\")\n",
    "print(Val)"
   ]
  },
  {
   "cell_type": "code",
   "execution_count": null,
   "metadata": {},
   "outputs": [],
   "source": []
  }
 ],
 "metadata": {
  "kernelspec": {
   "display_name": "Python 3",
   "language": "python",
   "name": "python3"
  },
  "language_info": {
   "codemirror_mode": {
    "name": "ipython",
    "version": 3
   },
   "file_extension": ".py",
   "mimetype": "text/x-python",
   "name": "python",
   "nbconvert_exporter": "python",
   "pygments_lexer": "ipython3",
   "version": "3.8.3"
  }
 },
 "nbformat": 4,
 "nbformat_minor": 4
}
