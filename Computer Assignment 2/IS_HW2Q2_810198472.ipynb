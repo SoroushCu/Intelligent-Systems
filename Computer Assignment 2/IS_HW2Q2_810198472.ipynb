{
 "cells": [
  {
   "cell_type": "markdown",
   "metadata": {},
   "source": [
    "## Intelligent Systems - HW2\n",
    "### Soroush Mesforush Mashhad\n",
    "#### SID: 810198472"
   ]
  },
  {
   "cell_type": "code",
   "execution_count": 1,
   "metadata": {},
   "outputs": [],
   "source": [
    "import numpy as np\n",
    "import pandas as pd\n",
    "import seaborn as sn\n",
    "from matplotlib import pyplot as plt\n",
    "import random"
   ]
  },
  {
   "cell_type": "code",
   "execution_count": 2,
   "metadata": {},
   "outputs": [],
   "source": [
    "Train = pd.read_csv('titanic-train.csv')\n",
    "Test = pd.read_csv('titanic-test.csv')"
   ]
  },
  {
   "cell_type": "code",
   "execution_count": 3,
   "metadata": {
    "scrolled": true
   },
   "outputs": [
    {
     "name": "stdout",
     "output_type": "stream",
     "text": [
      "<class 'pandas.core.frame.DataFrame'>\n",
      "RangeIndex: 891 entries, 0 to 890\n",
      "Data columns (total 8 columns):\n",
      " #   Column    Non-Null Count  Dtype  \n",
      "---  ------    --------------  -----  \n",
      " 0   Survived  891 non-null    int64  \n",
      " 1   Pclass    891 non-null    int64  \n",
      " 2   Embarked  889 non-null    object \n",
      " 3   Sex       891 non-null    object \n",
      " 4   Age       714 non-null    float64\n",
      " 5   SibSp     891 non-null    int64  \n",
      " 6   Parch     891 non-null    int64  \n",
      " 7   Fare      891 non-null    float64\n",
      "dtypes: float64(2), int64(4), object(2)\n",
      "memory usage: 55.8+ KB\n"
     ]
    }
   ],
   "source": [
    "Train.info()"
   ]
  },
  {
   "cell_type": "code",
   "execution_count": 4,
   "metadata": {},
   "outputs": [
    {
     "data": {
      "text/plain": [
       "342"
      ]
     },
     "execution_count": 4,
     "metadata": {},
     "output_type": "execute_result"
    }
   ],
   "source": [
    "Train['Survived'].sum()"
   ]
  },
  {
   "cell_type": "code",
   "execution_count": 5,
   "metadata": {},
   "outputs": [
    {
     "data": {
      "text/html": [
       "<div>\n",
       "<style scoped>\n",
       "    .dataframe tbody tr th:only-of-type {\n",
       "        vertical-align: middle;\n",
       "    }\n",
       "\n",
       "    .dataframe tbody tr th {\n",
       "        vertical-align: top;\n",
       "    }\n",
       "\n",
       "    .dataframe thead th {\n",
       "        text-align: right;\n",
       "    }\n",
       "</style>\n",
       "<table border=\"1\" class=\"dataframe\">\n",
       "  <thead>\n",
       "    <tr style=\"text-align: right;\">\n",
       "      <th></th>\n",
       "      <th>Pclass</th>\n",
       "      <th>Embarked</th>\n",
       "      <th>Sex</th>\n",
       "      <th>Age</th>\n",
       "      <th>SibSp</th>\n",
       "      <th>Parch</th>\n",
       "      <th>Fare</th>\n",
       "      <th>label</th>\n",
       "    </tr>\n",
       "  </thead>\n",
       "  <tbody>\n",
       "    <tr>\n",
       "      <th>0</th>\n",
       "      <td>3</td>\n",
       "      <td>S</td>\n",
       "      <td>male</td>\n",
       "      <td>22.0</td>\n",
       "      <td>1</td>\n",
       "      <td>0</td>\n",
       "      <td>7.2500</td>\n",
       "      <td>0</td>\n",
       "    </tr>\n",
       "    <tr>\n",
       "      <th>1</th>\n",
       "      <td>1</td>\n",
       "      <td>C</td>\n",
       "      <td>female</td>\n",
       "      <td>38.0</td>\n",
       "      <td>1</td>\n",
       "      <td>0</td>\n",
       "      <td>71.2833</td>\n",
       "      <td>1</td>\n",
       "    </tr>\n",
       "    <tr>\n",
       "      <th>2</th>\n",
       "      <td>3</td>\n",
       "      <td>S</td>\n",
       "      <td>female</td>\n",
       "      <td>26.0</td>\n",
       "      <td>0</td>\n",
       "      <td>0</td>\n",
       "      <td>7.9250</td>\n",
       "      <td>1</td>\n",
       "    </tr>\n",
       "    <tr>\n",
       "      <th>3</th>\n",
       "      <td>1</td>\n",
       "      <td>S</td>\n",
       "      <td>female</td>\n",
       "      <td>35.0</td>\n",
       "      <td>1</td>\n",
       "      <td>0</td>\n",
       "      <td>53.1000</td>\n",
       "      <td>1</td>\n",
       "    </tr>\n",
       "    <tr>\n",
       "      <th>4</th>\n",
       "      <td>3</td>\n",
       "      <td>S</td>\n",
       "      <td>male</td>\n",
       "      <td>35.0</td>\n",
       "      <td>0</td>\n",
       "      <td>0</td>\n",
       "      <td>8.0500</td>\n",
       "      <td>0</td>\n",
       "    </tr>\n",
       "  </tbody>\n",
       "</table>\n",
       "</div>"
      ],
      "text/plain": [
       "   Pclass Embarked     Sex   Age  SibSp  Parch     Fare  label\n",
       "0       3        S    male  22.0      1      0   7.2500      0\n",
       "1       1        C  female  38.0      1      0  71.2833      1\n",
       "2       3        S  female  26.0      0      0   7.9250      1\n",
       "3       1        S  female  35.0      1      0  53.1000      1\n",
       "4       3        S    male  35.0      0      0   8.0500      0"
      ]
     },
     "execution_count": 5,
     "metadata": {},
     "output_type": "execute_result"
    }
   ],
   "source": [
    "Train.insert(8, 'label', list(Train['Survived']))\n",
    "Train.drop(['Survived'], axis=1, inplace=True)\n",
    "Train.head()"
   ]
  },
  {
   "cell_type": "code",
   "execution_count": 6,
   "metadata": {
    "scrolled": true
   },
   "outputs": [
    {
     "data": {
      "text/html": [
       "<div>\n",
       "<style scoped>\n",
       "    .dataframe tbody tr th:only-of-type {\n",
       "        vertical-align: middle;\n",
       "    }\n",
       "\n",
       "    .dataframe tbody tr th {\n",
       "        vertical-align: top;\n",
       "    }\n",
       "\n",
       "    .dataframe thead th {\n",
       "        text-align: right;\n",
       "    }\n",
       "</style>\n",
       "<table border=\"1\" class=\"dataframe\">\n",
       "  <thead>\n",
       "    <tr style=\"text-align: right;\">\n",
       "      <th></th>\n",
       "      <th>Pclass</th>\n",
       "      <th>Sex</th>\n",
       "      <th>Age</th>\n",
       "      <th>SibSp</th>\n",
       "      <th>Parch</th>\n",
       "      <th>label</th>\n",
       "    </tr>\n",
       "  </thead>\n",
       "  <tbody>\n",
       "    <tr>\n",
       "      <th>0</th>\n",
       "      <td>3</td>\n",
       "      <td>0</td>\n",
       "      <td>22.0</td>\n",
       "      <td>1</td>\n",
       "      <td>0</td>\n",
       "      <td>0</td>\n",
       "    </tr>\n",
       "    <tr>\n",
       "      <th>1</th>\n",
       "      <td>1</td>\n",
       "      <td>1</td>\n",
       "      <td>38.0</td>\n",
       "      <td>1</td>\n",
       "      <td>0</td>\n",
       "      <td>1</td>\n",
       "    </tr>\n",
       "    <tr>\n",
       "      <th>2</th>\n",
       "      <td>3</td>\n",
       "      <td>1</td>\n",
       "      <td>26.0</td>\n",
       "      <td>0</td>\n",
       "      <td>0</td>\n",
       "      <td>1</td>\n",
       "    </tr>\n",
       "    <tr>\n",
       "      <th>3</th>\n",
       "      <td>1</td>\n",
       "      <td>1</td>\n",
       "      <td>35.0</td>\n",
       "      <td>1</td>\n",
       "      <td>0</td>\n",
       "      <td>1</td>\n",
       "    </tr>\n",
       "    <tr>\n",
       "      <th>4</th>\n",
       "      <td>3</td>\n",
       "      <td>0</td>\n",
       "      <td>35.0</td>\n",
       "      <td>0</td>\n",
       "      <td>0</td>\n",
       "      <td>0</td>\n",
       "    </tr>\n",
       "  </tbody>\n",
       "</table>\n",
       "</div>"
      ],
      "text/plain": [
       "   Pclass  Sex   Age  SibSp  Parch  label\n",
       "0       3    0  22.0      1      0      0\n",
       "1       1    1  38.0      1      0      1\n",
       "2       3    1  26.0      0      0      1\n",
       "3       1    1  35.0      1      0      1\n",
       "4       3    0  35.0      0      0      0"
      ]
     },
     "execution_count": 6,
     "metadata": {},
     "output_type": "execute_result"
    }
   ],
   "source": [
    "Train = Train.drop(['Embarked', 'Fare'], axis=1)\n",
    "Train['Age'] = Train['Age'].fillna(Train['Age'].mean())\n",
    "Train['Sex'] = Train['Sex'].map({'male': 0, 'female': 1})\n",
    "Train.head()"
   ]
  },
  {
   "cell_type": "code",
   "execution_count": 7,
   "metadata": {},
   "outputs": [
    {
     "data": {
      "text/plain": [
       "Pclass    0\n",
       "Sex       0\n",
       "Age       0\n",
       "SibSp     0\n",
       "Parch     0\n",
       "label     0\n",
       "dtype: int64"
      ]
     },
     "execution_count": 7,
     "metadata": {},
     "output_type": "execute_result"
    }
   ],
   "source": [
    "Train.isna().sum()"
   ]
  },
  {
   "cell_type": "code",
   "execution_count": 8,
   "metadata": {},
   "outputs": [],
   "source": [
    "Features = ['categorical', 'categorical', 'continuous', 'continuous', 'continuous', 'categorical']"
   ]
  },
  {
   "cell_type": "code",
   "execution_count": 9,
   "metadata": {},
   "outputs": [],
   "source": [
    "def PureData(data):\n",
    "    ColLabel = data[:, -1]\n",
    "    UniqueClasses = np.unique(ColLabel)\n",
    "\n",
    "    if len(UniqueClasses) == 1:\n",
    "        return True\n",
    "    else:\n",
    "        return False"
   ]
  },
  {
   "cell_type": "code",
   "execution_count": 10,
   "metadata": {},
   "outputs": [],
   "source": [
    "def DataClassification(data):\n",
    "    ColLabel = data[:, -1]\n",
    "    UniqueClasses, NumberUniqueClasses = np.unique(ColLabel, return_counts=True)\n",
    "    index = NumberUniqueClasses.argmax()\n",
    "    Classification = UniqueClasses[index]\n",
    "    \n",
    "    return Classification"
   ]
  },
  {
   "cell_type": "code",
   "execution_count": 11,
   "metadata": {},
   "outputs": [],
   "source": [
    "def PotentialSplitting(data):\n",
    "    PotSplit = {}\n",
    "    _, n_columns = data.shape\n",
    "    for ColInd in range(n_columns - 1):\n",
    "        Vals = data[:, ColInd]\n",
    "        UniqueVals = np.unique(Vals)\n",
    "        \n",
    "        PotSplit[ColInd] = UniqueVals\n",
    "    \n",
    "    return PotSplit"
   ]
  },
  {
   "cell_type": "code",
   "execution_count": 12,
   "metadata": {},
   "outputs": [],
   "source": [
    "def DataSplitting(data, ColSplit, SplitVal):\n",
    "    \n",
    "    FeatureType = Features[ColSplit]\n",
    "    ColSplitVal = data[:, ColSplit]\n",
    "\n",
    "    if FeatureType == \"continuous\":\n",
    "        DataM = data[ColSplitVal <= SplitVal]\n",
    "        DataP = data[ColSplitVal >  SplitVal]\n",
    "    \n",
    "    else:\n",
    "        DataM = data[ColSplitVal == SplitVal]\n",
    "        DataP = data[ColSplitVal != SplitVal]\n",
    "    \n",
    "    return DataM, DataP"
   ]
  },
  {
   "cell_type": "code",
   "execution_count": 13,
   "metadata": {},
   "outputs": [],
   "source": [
    "def EntropyCal(data):\n",
    "    ColLabel = data[:, -1]\n",
    "    _, counts = np.unique(ColLabel, return_counts=True)\n",
    "\n",
    "    Probs = counts / counts.sum()\n",
    "    Entropy = sum(Probs * -np.log2(Probs))\n",
    "     \n",
    "    return Entropy"
   ]
  },
  {
   "cell_type": "code",
   "execution_count": 14,
   "metadata": {},
   "outputs": [],
   "source": [
    "def OverallEntropyCal(DataM, DataP):\n",
    "    n = len(DataM) + len(DataP)\n",
    "    p_DataM = len(DataM) / n\n",
    "    p_DataP = len(DataP) / n\n",
    "\n",
    "    OverallEntropy =(p_DataM * EntropyCal(DataM)+ p_DataP * EntropyCal(DataP))\n",
    "    \n",
    "    return OverallEntropy"
   ]
  },
  {
   "cell_type": "code",
   "execution_count": 15,
   "metadata": {},
   "outputs": [],
   "source": [
    "def BestSplitChoice(data, PotSplit):\n",
    "    OverallEntropy = np.iinfo(np.int32).max\n",
    "    for ColInd in PotSplit:\n",
    "        for Val in PotSplit[ColInd]:\n",
    "            DataM, DataP = DataSplitting(data, ColSplit=ColInd, SplitVal=Val)\n",
    "            OverallEntropyNow = OverallEntropyCal(DataM, DataP)\n",
    "\n",
    "            if OverallEntropyNow <= OverallEntropy:\n",
    "                OverallEntropy = OverallEntropyNow\n",
    "                ColSplitBest = ColInd\n",
    "                SplitValBest = Val\n",
    "    \n",
    "    return ColSplitBest, SplitValBest"
   ]
  },
  {
   "cell_type": "code",
   "execution_count": 16,
   "metadata": {},
   "outputs": [],
   "source": [
    "def ID3(df, counter=0, MinSamples=2, MaxDepth=5):\n",
    "    global ColHead, Features\n",
    "    if counter == 0:\n",
    "        ColHead = df.columns\n",
    "        data = df.values\n",
    "    else:\n",
    "        data = df           \n",
    "    \n",
    "    if (PureData(data)) or (len(data) < MinSamples) or (counter == MaxDepth):\n",
    "        classification = DataClassification(data)\n",
    "        \n",
    "        return classification\n",
    "    \n",
    "    else:    \n",
    "        counter += 1\n",
    "\n",
    "        PotSplit = PotentialSplitting(data)\n",
    "        ColSplit, SplitVal = BestSplitChoice(data, PotSplit)\n",
    "        DataM, DataP = DataSplitting(data, ColSplit, SplitVal)\n",
    "        \n",
    "        if len(DataM) == 0 or len(DataP) == 0:\n",
    "            classification = DataClassification(data)\n",
    "            return classification\n",
    "         \n",
    "        feature_name = ColHead[ColSplit]\n",
    "        FeatureType = Features[ColSplit]\n",
    "        if FeatureType == \"continuous\":\n",
    "            Query = \"{} <= {}\".format(feature_name, SplitVal)\n",
    "            \n",
    "        else:\n",
    "            Query = \"{} = {}\".format(feature_name, SplitVal)\n",
    "        \n",
    "        sub_tree = {Query: []}\n",
    "        \n",
    "        PosAns = ID3(DataM, counter, MinSamples, MaxDepth)\n",
    "        NegAns = ID3(DataP, counter, MinSamples, MaxDepth)\n",
    "        \n",
    "        if PosAns == NegAns:\n",
    "            sub_tree = PosAns\n",
    "        else:\n",
    "            sub_tree[Query].append(PosAns)\n",
    "            sub_tree[Query].append(NegAns)\n",
    "        \n",
    "        return sub_tree"
   ]
  },
  {
   "cell_type": "code",
   "execution_count": 17,
   "metadata": {},
   "outputs": [],
   "source": [
    "def PredictExpl(example, tree):\n",
    "    if not isinstance(tree, dict):\n",
    "        return tree\n",
    "    \n",
    "    Query = list(tree.keys())[0]\n",
    "    feature_name, CompOP, value = Query.split(\" \")\n",
    "\n",
    "    if CompOP == \"<=\":\n",
    "        if example[feature_name] <= float(value):\n",
    "            ANS = tree[Query][0]\n",
    "        else:\n",
    "            ANS = tree[Query][1]\n",
    "    \n",
    "    else:\n",
    "        if str(example[feature_name]) == value:\n",
    "            ANS = tree[Query][0]\n",
    "        else:\n",
    "            ANS = tree[Query][1]\n",
    "\n",
    "    if not isinstance(ANS, dict):\n",
    "        return ANS\n",
    "    \n",
    "    else:\n",
    "        residual_tree = ANS\n",
    "        return PredictExpl(example, residual_tree)"
   ]
  },
  {
   "cell_type": "code",
   "execution_count": 18,
   "metadata": {},
   "outputs": [],
   "source": [
    "def MakePreds(df, tree):\n",
    "    if len(df) != 0:\n",
    "        Preds = df.apply(PredictExpl, args=(tree,), axis=1)\n",
    "    else:\n",
    "        Preds = pd.Series()\n",
    "    return Preds"
   ]
  },
  {
   "cell_type": "code",
   "execution_count": 19,
   "metadata": {},
   "outputs": [],
   "source": [
    "def calculate_accuracy(df, tree):\n",
    "    Preds = MakePreds(df, tree)\n",
    "    PredsCorrect = Preds == df.label\n",
    "    ACC = PredsCorrect.mean()\n",
    "    return ACC"
   ]
  },
  {
   "cell_type": "code",
   "execution_count": 20,
   "metadata": {},
   "outputs": [],
   "source": [
    "def random_forest(Train, Test, k=5):\n",
    "    preds = []\n",
    "    trees = []\n",
    "    results = []\n",
    "    for i in range(k):\n",
    "        Test_ = Train.sample(frac=0.2, random_state=random.randint(0, 2000))\n",
    "        idx = Test_.index\n",
    "        Train = Train.iloc[list(set(range(len(Train)))-set(idx)), :]\n",
    "        tree = ID3(Train, MaxDepth=3)\n",
    "        trees.append(tree)\n",
    "    for i, row in Test.iterrows():\n",
    "        for tree in trees:\n",
    "            predictions = PredictExpl(row, tree)\n",
    "            preds.append(predictions)\n",
    "        results.append(max(set(preds), key = preds.count))\n",
    "        preds = []\n",
    "    return np.array(results)"
   ]
  },
  {
   "cell_type": "code",
   "execution_count": 50,
   "metadata": {},
   "outputs": [
    {
     "name": "stdout",
     "output_type": "stream",
     "text": [
      "{'Sex = 1.0': [{'Pclass = 3.0': [{'SibSp <= 2.0': [1.0, 0.0]}, {'Age <= 2.0': [0.0, 1.0]}]}, {'Age <= 6.0': [{'SibSp <= 2.0': [1.0, 0.0]}, 0.0]}]}\n"
     ]
    }
   ],
   "source": [
    "Test = Train.sample(frac=0.2,random_state=42)\n",
    "idx = Test.index\n",
    "Train_ = Train.iloc[list(set(range(len(Train)))-set(idx)), :]\n",
    "tree = ID3(Train_, MaxDepth=3)\n",
    "print(tree)"
   ]
  },
  {
   "cell_type": "code",
   "execution_count": 51,
   "metadata": {},
   "outputs": [
    {
     "data": {
      "text/plain": [
       "0.797752808988764"
      ]
     },
     "execution_count": 51,
     "metadata": {},
     "output_type": "execute_result"
    }
   ],
   "source": [
    "calculate_accuracy(Test, tree)"
   ]
  },
  {
   "cell_type": "code",
   "execution_count": 52,
   "metadata": {},
   "outputs": [],
   "source": [
    "def CMatrix(Pred,Real):\n",
    "    #First we must find the classes, i.e: 0 1 2\n",
    "    Cls = np.unique(Real)\n",
    "    Len  = len(Cls)\n",
    "    #We know that the confusion matrix is always a square matrix hence\n",
    "    Cm = np.zeros((Len,Len))\n",
    "    for i in range (Len):\n",
    "        for j in range(Len):\n",
    "            Cm[i][j] = np.sum((Real == Cls[i]) & (Pred == Cls[j]))\n",
    "    return Cm"
   ]
  },
  {
   "cell_type": "code",
   "execution_count": 53,
   "metadata": {
    "scrolled": true
   },
   "outputs": [
    {
     "data": {
      "image/png": "[encoded data removed]",
      "text/plain": [
       "<Figure size 432x288 with 2 Axes>"
      ]
     },
     "metadata": {
      "needs_background": "light"
     },
     "output_type": "display_data"
    }
   ],
   "source": [
    "predictions = MakePreds(Test, tree)\n",
    "Cm=CMatrix(predictions, Test.label)\n",
    "ax = sn.heatmap(Cm,cmap=\"Blues\" ,annot=True,square = True)\n",
    "plt.title('Confusion Matrix for normal tree')\n",
    "plt.xlabel('Prediction')\n",
    "plt.ylabel('True')\n",
    "plt.show()"
   ]
  },
  {
   "cell_type": "code",
   "execution_count": 57,
   "metadata": {},
   "outputs": [
    {
     "name": "stdout",
     "output_type": "stream",
     "text": [
      "{'Sex = 1.0': [{'Pclass = 3.0': [{'SibSp <= 2.0': [{'Parch <= 3.0': [1.0, 0.0]}, {'Parch <= 0.0': [1.0, 0.0]}]}, {'Age <= 2.0': [{'Parch <= 1.0': [1.0, 0.0]}, 1.0]}]}, {'Age <= 6.0': [{'SibSp <= 2.0': [1.0, 0.0]}, {'Pclass = 1.0': [{'Age <= 70.0': [0.0, 1.0]}, 0.0]}]}]}\n"
     ]
    }
   ],
   "source": [
    "tree = ID3(Train_, MaxDepth=5)\n",
    "print(tree)"
   ]
  },
  {
   "cell_type": "code",
   "execution_count": 58,
   "metadata": {},
   "outputs": [
    {
     "data": {
      "text/plain": [
       "0.7865168539325843"
      ]
     },
     "execution_count": 58,
     "metadata": {},
     "output_type": "execute_result"
    }
   ],
   "source": [
    "calculate_accuracy(Test, tree)"
   ]
  },
  {
   "cell_type": "code",
   "execution_count": 59,
   "metadata": {},
   "outputs": [
    {
     "data": {
      "image/png": "[encoded data removed]",
      "text/plain": [
       "<Figure size 432x288 with 2 Axes>"
      ]
     },
     "metadata": {
      "needs_background": "light"
     },
     "output_type": "display_data"
    }
   ],
   "source": [
    "predictions = MakePreds(Test, tree)\n",
    "Cm=CMatrix(predictions, Test.label)\n",
    "ax = sn.heatmap(Cm,cmap=\"Blues\" ,annot=True,square = True)\n",
    "plt.title('Confusion Matrix for normal tree')\n",
    "plt.xlabel('Prediction')\n",
    "plt.ylabel('True')\n",
    "plt.show()"
   ]
  },
  {
   "cell_type": "code",
   "execution_count": 65,
   "metadata": {},
   "outputs": [],
   "source": [
    "predictions = random_forest(Train_, Test, 9)"
   ]
  },
  {
   "cell_type": "code",
   "execution_count": 66,
   "metadata": {},
   "outputs": [
    {
     "name": "stdout",
     "output_type": "stream",
     "text": [
      "Accuracy = 0.8146067415730337\n"
     ]
    }
   ],
   "source": [
    "print(\"Accuracy =\", (np.array(predictions) == Test.label).mean())"
   ]
  },
  {
   "cell_type": "code",
   "execution_count": 67,
   "metadata": {},
   "outputs": [
    {
     "data": {
      "image/png": "[encoded data removed]",
      "text/plain": [
       "<Figure size 432x288 with 2 Axes>"
      ]
     },
     "metadata": {
      "needs_background": "light"
     },
     "output_type": "display_data"
    }
   ],
   "source": [
    "Cm=CMatrix(predictions, Test.label)\n",
    "ax = sn.heatmap(Cm,cmap=\"Blues\" ,annot=True,square = True)\n",
    "plt.title('Confusion Matrix for random forest')\n",
    "plt.xlabel('Prediction')\n",
    "plt.ylabel('True')\n",
    "plt.show()"
   ]
  },
  {
   "cell_type": "code",
   "execution_count": null,
   "metadata": {},
   "outputs": [],
   "source": []
  }
 ],
 "metadata": {
  "kernelspec": {
   "display_name": "Python 3",
   "language": "python",
   "name": "python3"
  },
  "language_info": {
   "codemirror_mode": {
    "name": "ipython",
    "version": 3
   },
   "file_extension": ".py",
   "mimetype": "text/x-python",
   "name": "python",
   "nbconvert_exporter": "python",
   "pygments_lexer": "ipython3",
   "version": "3.8.3"
  }
 },
 "nbformat": 4,
 "nbformat_minor": 4
}
