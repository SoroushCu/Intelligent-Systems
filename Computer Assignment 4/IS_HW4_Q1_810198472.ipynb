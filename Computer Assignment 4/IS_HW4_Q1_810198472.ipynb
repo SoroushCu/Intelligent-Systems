{
 "cells": [
  {
   "cell_type": "markdown",
   "metadata": {},
   "source": [
    "## Intelligent Systems - HW2\n",
    "### Soroush Mesforush Mashhad\n",
    "#### SID: 810198472"
   ]
  },
  {
   "cell_type": "code",
   "execution_count": 2,
   "metadata": {},
   "outputs": [],
   "source": [
    "import numpy as np"
   ]
  },
  {
   "cell_type": "markdown",
   "metadata": {},
   "source": [
    "### Preliminary stuff"
   ]
  },
  {
   "cell_type": "code",
   "execution_count": 200,
   "metadata": {},
   "outputs": [],
   "source": [
    "x1=np.array([[2],[7],[2]])\n",
    "x2=np.array([[7],[2],[7]])\n",
    "W1 = np.array([[0.12,0.27],\n",
    "               [0.32, 0.47],\n",
    "               [0.52, 0.47]])\n",
    "W2 = np.array([[2.15,2.25,2.35],[7.45,7.55,7.65]])\n",
    "W3 = np.array([[14.12,14.22],\n",
    "               [14.32, 14.42],\n",
    "               [14.52, 14.62]])\n",
    "W4 = np.array([[-4.84],[-4.64]])\n",
    "B1  = np.array([[0.21],[0.72]])\n",
    "B2 = np.array([[9.15],[9.25],[9.35]])\n",
    "B3=np.array([[0.37],[0.47]])\n",
    "B4 = np.array([[5.26]])"
   ]
  },
  {
   "cell_type": "markdown",
   "metadata": {},
   "source": [
    "### Needed Functions"
   ]
  },
  {
   "cell_type": "code",
   "execution_count": 124,
   "metadata": {},
   "outputs": [],
   "source": [
    "def step(x):\n",
    "    if x>0:\n",
    "        return 1 \n",
    "    else:\n",
    "        return 0"
   ]
  },
  {
   "cell_type": "code",
   "execution_count": 73,
   "metadata": {},
   "outputs": [],
   "source": [
    "def AclayFeed(x,W1,W2,W3,W4,B1,B2,B3,B4):\n",
    "    Z = np.tanh(np.dot(np.transpose(W1),x)+B1)\n",
    "    K= 1/1+np.exp(-(np.dot(np.transpose(W2),Z)+B2))\n",
    "    P = np.tanh(np.dot(np.transpose(W3),K)+B3)\n",
    "    Yhat = np.maximum(0,np.dot(np.transpose(W4),P)+B4)\n",
    "    return Yhat[0][0]"
   ]
  },
  {
   "cell_type": "code",
   "execution_count": 58,
   "metadata": {},
   "outputs": [],
   "source": [
    "def ErrorCalc(Y,Yhat):\n",
    "    return 0.5*(Y-Yhat)**2"
   ]
  },
  {
   "cell_type": "code",
   "execution_count": 205,
   "metadata": {},
   "outputs": [],
   "source": [
    "def Gradient_CalcandUp(x,W1,W2,W3,W4,B1,B2,B3,B4,Y,lr):\n",
    "    Z = np.tanh(np.dot(np.transpose(W1),x)+B1)\n",
    "    K= 1/1+np.exp(-(np.dot(np.transpose(W2),Z)+B2))\n",
    "    P = np.tanh(np.dot(np.transpose(W3),K)+B3)\n",
    "    Yhat = np.maximum(0,np.dot(np.transpose(W4),P)+B4)\n",
    "    A = np.dot(np.transpose(W4),P)+B4\n",
    "    dW4 = np.transpose((Yhat - Y)*step(A)*np.transpose(P))\n",
    "    dB4 = (Yhat - Y)*step(A)\n",
    "    dW3 = np.transpose(np.matmul(np.multiply(W4 *(Yhat - Y)*A,1-P**2),np.transpose(K)))\n",
    "    dB3 = np.multiply(W4 *(Yhat - Y)*A,1-P**2)\n",
    "    TempW2=np.multiply(W4 *(Yhat - Y)*A,1-P**2)\n",
    "    dW2 = np.transpose(np.matmul(np.multiply(np.matmul(W3,TempW2),K*(1-K)),np.transpose(Z)))\n",
    "    dB2 =np.multiply(np.matmul(W3,TempW2),K*(1-K))\n",
    "    TempW1 = np.multiply(np.matmul(W3,TempW2),K*(1-K))\n",
    "    dW1 = np.transpose(np.matmul(np.multiply(np.matmul(W2,TempW1),1-Z**2),np.transpose(x)))\n",
    "    dB1 = np.multiply(np.matmul(W2,TempW1),1-Z**2)\n",
    "    W4-=lr*dW4\n",
    "    W3-=lr*dW3\n",
    "    W2-=lr*dW2\n",
    "    W1-=lr*dW1\n",
    "    B4-=lr*dB4\n",
    "    B3-=lr*dB3\n",
    "    B2-=lr*dB2\n",
    "    B1-=lr*dB1\n",
    "    return W4,W3,W2,W1,B4,B3,B2,B1"
   ]
  },
  {
   "cell_type": "code",
   "execution_count": 213,
   "metadata": {},
   "outputs": [
    {
     "name": "stdout",
     "output_type": "stream",
     "text": [
      "Error for first feed forward: 2.0\n",
      "Updated W4 after 1 iteration : [[-4.84]\n",
      " [-4.64]]\n",
      "Updated W3 after 1 iteration : [[14.12 14.22]\n",
      " [14.32 14.42]\n",
      " [14.52 14.62]]\n",
      "Updated W2 after 1 iteration : [[2.15 2.25 2.35]\n",
      " [7.45 7.55 7.65]]\n",
      "Updated W1 after 1 iteration : [[0.12 0.27]\n",
      " [0.32 0.47]\n",
      " [0.52 0.47]]\n",
      "Updated B4 after 1 iteration : [[5.26]]\n",
      "Updated B3 after 1 iteration : [[0.37]\n",
      " [0.47]]\n",
      "Updated B2 after 1 iteration : [[9.15]\n",
      " [9.25]\n",
      " [9.35]]\n",
      "Updated B1 after 1 iteration : [[0.21]\n",
      " [0.72]]\n",
      "-------------------------------------------------------------\n",
      "Error for second feed forward: 24.5\n",
      "Updated W4 after 2 iterations : [[-4.84]\n",
      " [-4.64]]\n",
      "Updated W3 after 2 iterations : [[14.12 14.22]\n",
      " [14.32 14.42]\n",
      " [14.52 14.62]]\n",
      "Updated W2 after 2 iterations : [[2.15 2.25 2.35]\n",
      " [7.45 7.55 7.65]]\n",
      "Updated W1 after 2 iterations : [[0.12 0.27]\n",
      " [0.32 0.47]\n",
      " [0.52 0.47]]\n",
      "Updated B4 after 2 iterations : [[5.26]]\n",
      "Updated B3 after 2 iterations : [[0.37]\n",
      " [0.47]]\n",
      "Updated B2 after 2 iterations : [[9.15]\n",
      " [9.25]\n",
      " [9.35]]\n",
      "Updated B1 after 2 iterations : [[0.21]\n",
      " [0.72]]\n"
     ]
    }
   ],
   "source": [
    "#First Iter\n",
    "Y1=2\n",
    "Yhat1=AclayFeed(x1,W1,W2,W3,W4,B1,B2,B3,B4)\n",
    "print(f\"Error for first feed forward: {ErrorCalc(Y1,Yhat1)}\")\n",
    "lr = 0.1\n",
    "W4up1,W3up1,W2up1,W1up1,B4up1,B3up1,B2up1,B1up1=Gradient_CalcandUp(x1,W1,W2,W3,W4,B1,B2,B3,B4,Y1,lr)\n",
    "print(f\"Updated W4 after 1 iteration : {W4up1}\")\n",
    "print(f\"Updated W3 after 1 iteration : {W3up1}\")\n",
    "print(f\"Updated W2 after 1 iteration : {W2up1}\")\n",
    "print(f\"Updated W1 after 1 iteration : {W1up1}\")\n",
    "print(f\"Updated B4 after 1 iteration : {B4up1}\")\n",
    "print(f\"Updated B3 after 1 iteration : {B3up1}\")\n",
    "print(f\"Updated B2 after 1 iteration : {B2up1}\")\n",
    "print(f\"Updated B1 after 1 iteration : {B1up1}\")\n",
    "##Second Iter\n",
    "Y2=7\n",
    "Yhat2=AclayFeed(x2,W1,W2,W3,W4,B1,B2,B3,B4)\n",
    "print('-------------------------------------------------------------')\n",
    "print(f\"Error for second feed forward: {ErrorCalc(Y2,Yhat2)}\")\n",
    "lr = 0.1\n",
    "W4up2,W3up2,W2up2,W1up2,B4up2,B3up2,B2up2,B1up2=Gradient_CalcandUp(x2,W1,W2,W3,W4,B1,B2,B3,B4,Y2,lr)\n",
    "print(f\"Updated W4 after 2 iterations : {W4up2}\")\n",
    "print(f\"Updated W3 after 2 iterations : {W3up2}\")\n",
    "print(f\"Updated W2 after 2 iterations : {W2up2}\")\n",
    "print(f\"Updated W1 after 2 iterations : {W1up2}\")\n",
    "print(f\"Updated B4 after 2 iterations : {B4up2}\")\n",
    "print(f\"Updated B3 after 2 iterations : {B3up2}\")\n",
    "print(f\"Updated B2 after 2 iterations : {B2up2}\")\n",
    "print(f\"Updated B1 after 2 iterations : {B1up2}\")"
   ]
  },
  {
   "cell_type": "code",
   "execution_count": null,
   "metadata": {},
   "outputs": [],
   "source": []
  }
 ],
 "metadata": {
  "kernelspec": {
   "display_name": "Python 3",
   "language": "python",
   "name": "python3"
  },
  "language_info": {
   "codemirror_mode": {
    "name": "ipython",
    "version": 3
   },
   "file_extension": ".py",
   "mimetype": "text/x-python",
   "name": "python",
   "nbconvert_exporter": "python",
   "pygments_lexer": "ipython3",
   "version": "3.8.3"
  }
 },
 "nbformat": 4,
 "nbformat_minor": 4
}
