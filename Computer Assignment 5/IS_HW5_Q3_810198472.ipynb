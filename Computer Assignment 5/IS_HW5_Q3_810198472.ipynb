{
 "cells": [
  {
   "cell_type": "markdown",
   "metadata": {},
   "source": [
    "## Intelligent Systems - HW5\n",
    "### Soroush Mesforush Mashhad\n",
    "#### SID: 810198472"
   ]
  },
  {
   "cell_type": "code",
   "execution_count": 1,
   "metadata": {},
   "outputs": [],
   "source": [
    "import numpy as np\n",
    "import pandas as pd\n",
    "import seaborn as sn\n",
    "from matplotlib import pyplot as plt\n",
    "import random\n",
    "from statistics import mean,stdev"
   ]
  },
  {
   "cell_type": "code",
   "execution_count": 2,
   "metadata": {
    "scrolled": false
   },
   "outputs": [
    {
     "name": "stdout",
     "output_type": "stream",
     "text": [
      "Printing digit example #3292 with label: 3\n",
      "                            \n",
      "                            \n",
      "                            \n",
      "                            \n",
      "              +###+         \n",
      "           ++#### #+        \n",
      "           +###++##+        \n",
      "            +++  +#+        \n",
      "                 +#+        \n",
      "                 #+         \n",
      "               ++#+         \n",
      "               +##+         \n",
      "            ++###+          \n",
      "            #####+          \n",
      "            +####++         \n",
      "            +++ ##+         \n",
      "               +##+         \n",
      "                ##+         \n",
      "               +##+         \n",
      "       +     + ##+          \n",
      "      +#    ++###           \n",
      "      +##++#####+           \n",
      "      +#######++            \n",
      "       +####++              \n",
      "                            \n",
      "                            \n",
      "                            \n",
      "                            \n"
     ]
    }
   ],
   "source": [
    "DATA_WIDTH=28\n",
    "DATA_HEIGHT=28\n",
    "NUMBER_OF_TRAINING_EXAMPLES=5000\n",
    "NUMBER_OF_VALIDATION_EXAMPLES=1000\n",
    "\n",
    "ALL_TRAINING_IMAGES=[]\n",
    "ALL_TRAINING_LABELS=[]\n",
    "ALL_VALIDATION_IMAGES=[]\n",
    "ALL_VALIDATION_LABELS=[]\n",
    "\n",
    "'''\n",
    "Convert ASC-II pixel into numerical data and vice versa\n",
    "    - ' ' is converted to ..., which means it's part of the background\n",
    "    - '#' is converted to ..., part of the image interior\n",
    "    - '+' is converted to ..., part of the edges\n",
    "    \n",
    "'''\n",
    "\n",
    "def _pixel_to_value(character):\n",
    "    if(character == ' '):\n",
    "        return 0\n",
    "    elif(character == '#'):\n",
    "        return 1\n",
    "    elif(character == '+'):\n",
    "        return 2\n",
    "def _value_to_pixel(value):\n",
    "    if(value == 0):\n",
    "        return ' '\n",
    "    elif(value == 1):\n",
    "        return '#'\n",
    "    elif(value == 2):\n",
    "        return '+'\n",
    "'''\n",
    "Function for loading data and label files\n",
    "'''\n",
    "\n",
    "def _load_data_file(filename, n, width, height):\n",
    "    fin = [l[:-1] for l in open(filename).readlines()]\n",
    "    fin.reverse()\n",
    "    items = []\n",
    "    for i in range(n):\n",
    "        data = []\n",
    "        for j in range(height):\n",
    "            row = map(_pixel_to_value, list(fin.pop()))\n",
    "            data.append(list(row))\n",
    "        items.append(data)\n",
    "    return items\n",
    "        \n",
    "def _load_label_file(filename, n):\n",
    "    fin = [l[:-1] for l in open(filename).readlines()]\n",
    "    labels = []\n",
    "    for i in range(n):\n",
    "        labels.append(int(fin[i]))\n",
    "    return labels\n",
    "\n",
    "def _load_all_data():\n",
    "    global ALL_TRAINING_IMAGES\n",
    "    global ALL_TRAINING_LABELS\n",
    "    global ALL_VALIDATION_IMAGES\n",
    "    global ALL_VALIDATION_LABELS\n",
    "\n",
    "    ALL_TRAINING_IMAGES = _load_data_file(\"trainingimages\",\n",
    "        NUMBER_OF_TRAINING_EXAMPLES, DATA_WIDTH, DATA_HEIGHT)\n",
    "    ALL_TRAINING_LABELS = _load_label_file(\"traininglabels\",\n",
    "        NUMBER_OF_TRAINING_EXAMPLES)\n",
    "\n",
    "    ALL_VALIDATION_IMAGES = _load_data_file(\"validationimages\",\n",
    "        NUMBER_OF_VALIDATION_EXAMPLES, DATA_WIDTH, DATA_HEIGHT)\n",
    "    ALL_VALIDATION_LABELS = _load_label_file(\"validationlabels\",\n",
    "        NUMBER_OF_VALIDATION_EXAMPLES)\n",
    "\n",
    "'''\n",
    "Function for printing digits\n",
    "'''\n",
    "\n",
    "def _print_digit_image(data):\n",
    "    for row in range(len(data)):\n",
    "        print(''.join(map(_value_to_pixel, data[row])))\n",
    "    \n",
    "_load_all_data()\n",
    "\n",
    "example_number = random.randint(0, NUMBER_OF_TRAINING_EXAMPLES)\n",
    "print(\"Printing digit example #\" + str(example_number + 1) + \" with label: \" \\\n",
    "        + str(ALL_TRAINING_LABELS[example_number]))\n",
    "_print_digit_image(ALL_TRAINING_IMAGES[example_number])\n"
   ]
  },
  {
   "cell_type": "code",
   "execution_count": 3,
   "metadata": {
    "scrolled": true
   },
   "outputs": [
    {
     "data": {
      "text/plain": [
       "\"\\nExtract advanced features that you will come up with. For example: \\n**Note that it's not mandatory to use the features listed above.\\n\""
      ]
     },
     "execution_count": 3,
     "metadata": {},
     "output_type": "execute_result"
    }
   ],
   "source": [
    "'''\n",
    "Extract 'basic' features, i.e., whether a pixel is in the background or part of the digit\n",
    "'''\n",
    "\n",
    "'''\n",
    "Extract advanced features that you will come up with. For example: \n",
    "**Note that it's not mandatory to use the features listed above.\n",
    "'''\n",
    "\n",
    "    # Calculate the width and height of the digit\n",
    "    # Calculate the number of #s and +s in the top half ( or in any other part)\n",
    "    # Define a rowlimit and investigate if the amount of #s/+s surpasses the limit\n",
    "    \n"
   ]
  },
  {
   "cell_type": "markdown",
   "metadata": {},
   "source": [
    "### Preliminary Testing"
   ]
  },
  {
   "cell_type": "code",
   "execution_count": 4,
   "metadata": {},
   "outputs": [],
   "source": [
    "_load_all_data()"
   ]
  },
  {
   "cell_type": "code",
   "execution_count": 5,
   "metadata": {},
   "outputs": [
    {
     "name": "stdout",
     "output_type": "stream",
     "text": [
      "#\n"
     ]
    }
   ],
   "source": [
    "_load_all_data()\n",
    "test = ''.join(map(_value_to_pixel, ALL_TRAINING_IMAGES[7][5]))\n",
    "print(test[19])"
   ]
  },
  {
   "cell_type": "markdown",
   "metadata": {},
   "source": [
    "We shall perform the Naive bayes algorithm with functions for brevity."
   ]
  },
  {
   "cell_type": "code",
   "execution_count": 6,
   "metadata": {},
   "outputs": [],
   "source": [
    "def TrainTestData(ALL_TRAINING_IMAGES,ALL_VALIDATION_IMAGES):\n",
    "    return np.array(ALL_TRAINING_IMAGES),np.array(ALL_VALIDATION_IMAGES)"
   ]
  },
  {
   "cell_type": "code",
   "execution_count": 7,
   "metadata": {},
   "outputs": [],
   "source": [
    "def TrainTestLabels(ALL_TRAINING_LABELS,ALL_VALIDATION_LABELS):\n",
    "    return np.array(ALL_TRAINING_LABELS),np.array(ALL_VALIDATION_LABELS)"
   ]
  },
  {
   "cell_type": "markdown",
   "metadata": {},
   "source": [
    "I shall extract 3 of the features suggested in the project, the height, the width and the count of # and the count of +"
   ]
  },
  {
   "cell_type": "markdown",
   "metadata": {},
   "source": [
    "First we shall go for the height, each number has 28 lines, but the height is different for each scenario, take a look at the following:"
   ]
  },
  {
   "cell_type": "code",
   "execution_count": 8,
   "metadata": {},
   "outputs": [
    {
     "name": "stdout",
     "output_type": "stream",
     "text": [
      "Printing digit example #250 with label: 3\n",
      "                            \n",
      "                            \n",
      "                            \n",
      "                            \n",
      "                            \n",
      "                            \n",
      "                            \n",
      "                            \n",
      "    +++++++++               \n",
      "   +##########+ ++          \n",
      "   ##+++++  ######+         \n",
      "   ++       ++++####        \n",
      "                +###        \n",
      "           ++ ++## #+       \n",
      "          +########+        \n",
      "          +#########+       \n",
      "           +  +  +###+      \n",
      "                  + # +     \n",
      "          ++        +##     \n",
      "          ##++++++++###     \n",
      "           ####### ###+     \n",
      "           ++##++###++      \n",
      "                            \n",
      "                            \n",
      "                            \n",
      "                            \n",
      "                            \n",
      "                            \n"
     ]
    }
   ],
   "source": [
    "print(\"Printing digit example #\" + str(250) + \" with label: \" \\\n",
    "        + str(ALL_TRAINING_LABELS[250]))\n",
    "_print_digit_image(ALL_TRAINING_IMAGES[250])\n"
   ]
  },
  {
   "cell_type": "code",
   "execution_count": 9,
   "metadata": {},
   "outputs": [],
   "source": [
    "xtrain,xval = TrainTestData(ALL_TRAINING_IMAGES,ALL_VALIDATION_IMAGES)\n",
    "ytrain,yval = TrainTestLabels(ALL_TRAINING_LABELS,ALL_VALIDATION_LABELS)"
   ]
  },
  {
   "cell_type": "markdown",
   "metadata": {},
   "source": [
    "The following function shall give us an idea to calculate the height of each number"
   ]
  },
  {
   "cell_type": "code",
   "execution_count": 10,
   "metadata": {},
   "outputs": [],
   "source": [
    "Th"
   ]
  },
  {
   "cell_type": "code",
   "execution_count": 11,
   "metadata": {},
   "outputs": [
    {
     "name": "stdout",
     "output_type": "stream",
     "text": [
      "[0 0 0 0 0 0 0 0 0 0 0 0 0 0 0 0 0 0 0 0 0 0 0 0 0 0 0 0]\n",
      "[0 0 0 0 0 0 0 0 0 0 0 0 0 0 0 0 0 0 0 0 0 0 0 0 0 0 0 0]\n",
      "[0 0 0 0 0 0 0 0 0 0 0 0 0 0 0 0 0 0 0 0 0 0 0 0 0 0 0 0]\n",
      "[0 0 0 0 0 0 0 0 0 0 0 0 0 0 0 0 0 0 0 0 0 0 0 0 0 0 0 0]\n",
      "[0 0 0 0 0 0 0 0 0 0 0 0 0 0 0 0 0 0 0 0 0 0 0 0 0 0 0 0]\n",
      "[0 0 0 0 0 0 0 0 0 0 0 0 0 0 0 0 0 0 0 0 0 0 0 0 0 0 0 0]\n",
      "[0 0 0 0 0 0 0 0 0 0 0 0 0 0 0 0 0 0 0 0 0 0 0 0 0 0 0 0]\n",
      "[0 0 0 0 0 0 0 0 0 0 0 0 0 0 0 0 0 0 0 0 0 0 0 0 0 0 0 0]\n",
      "[0 0 0 0 2 2 2 2 2 2 2 2 2 0 0 0 0 0 0 0 0 0 0 0 0 0 0 0]\n",
      "[0 0 0 2 1 1 1 1 1 1 1 1 1 1 2 0 2 2 0 0 0 0 0 0 0 0 0 0]\n",
      "[0 0 0 1 1 2 2 2 2 2 0 0 1 1 1 1 1 1 2 0 0 0 0 0 0 0 0 0]\n",
      "[0 0 0 2 2 0 0 0 0 0 0 0 2 2 2 2 1 1 1 1 0 0 0 0 0 0 0 0]\n",
      "[0 0 0 0 0 0 0 0 0 0 0 0 0 0 0 0 2 1 1 1 0 0 0 0 0 0 0 0]\n",
      "[0 0 0 0 0 0 0 0 0 0 0 2 2 0 2 2 1 1 0 1 2 0 0 0 0 0 0 0]\n",
      "[0 0 0 0 0 0 0 0 0 0 2 1 1 1 1 1 1 1 1 2 0 0 0 0 0 0 0 0]\n",
      "[0 0 0 0 0 0 0 0 0 0 2 1 1 1 1 1 1 1 1 1 2 0 0 0 0 0 0 0]\n",
      "[0 0 0 0 0 0 0 0 0 0 0 2 0 0 2 0 0 2 1 1 1 2 0 0 0 0 0 0]\n",
      "[0 0 0 0 0 0 0 0 0 0 0 0 0 0 0 0 0 0 2 0 1 0 2 0 0 0 0 0]\n",
      "[0 0 0 0 0 0 0 0 0 0 2 2 0 0 0 0 0 0 0 0 2 1 1 0 0 0 0 0]\n",
      "[0 0 0 0 0 0 0 0 0 0 1 1 2 2 2 2 2 2 2 2 1 1 1 0 0 0 0 0]\n",
      "[0 0 0 0 0 0 0 0 0 0 0 1 1 1 1 1 1 1 0 1 1 1 2 0 0 0 0 0]\n",
      "[0 0 0 0 0 0 0 0 0 0 0 2 2 1 1 2 2 1 1 1 2 2 0 0 0 0 0 0]\n",
      "[0 0 0 0 0 0 0 0 0 0 0 0 0 0 0 0 0 0 0 0 0 0 0 0 0 0 0 0]\n",
      "[0 0 0 0 0 0 0 0 0 0 0 0 0 0 0 0 0 0 0 0 0 0 0 0 0 0 0 0]\n",
      "[0 0 0 0 0 0 0 0 0 0 0 0 0 0 0 0 0 0 0 0 0 0 0 0 0 0 0 0]\n",
      "[0 0 0 0 0 0 0 0 0 0 0 0 0 0 0 0 0 0 0 0 0 0 0 0 0 0 0 0]\n",
      "[0 0 0 0 0 0 0 0 0 0 0 0 0 0 0 0 0 0 0 0 0 0 0 0 0 0 0 0]\n",
      "[0 0 0 0 0 0 0 0 0 0 0 0 0 0 0 0 0 0 0 0 0 0 0 0 0 0 0 0]\n"
     ]
    }
   ],
   "source": [
    "NumberShower(xtrain[250])"
   ]
  },
  {
   "cell_type": "markdown",
   "metadata": {},
   "source": [
    "As we can see an outline of the number 3 can be seen via 1 and 2 numbers, so to calculate the height, it is the obvious that each row that the sum of it is not zero shoulb be considered in the height, so we design the following function"
   ]
  },
  {
   "cell_type": "code",
   "execution_count": 12,
   "metadata": {},
   "outputs": [],
   "source": [
    "def HeightCalc(Image):\n",
    "    height = 0\n",
    "    for i in range(DATA_HEIGHT):\n",
    "        if(sum(Image[i])!=0):\n",
    "            height+=1\n",
    "    return height"
   ]
  },
  {
   "cell_type": "code",
   "execution_count": 13,
   "metadata": {},
   "outputs": [
    {
     "data": {
      "text/plain": [
       "14"
      ]
     },
     "execution_count": 13,
     "metadata": {},
     "output_type": "execute_result"
    }
   ],
   "source": [
    "HeightCalc(xtrain[250])"
   ]
  },
  {
   "cell_type": "markdown",
   "metadata": {},
   "source": [
    "No we shall implement the width function, once again we shall draw the above number to come up with an algorithm"
   ]
  },
  {
   "cell_type": "code",
   "execution_count": 14,
   "metadata": {},
   "outputs": [
    {
     "name": "stdout",
     "output_type": "stream",
     "text": [
      "[0 0 0 0 0 0 0 0 0 0 0 0 0 0 0 0 0 0 0 0 0 0 0 0 0 0 0 0]\n",
      "[0 0 0 0 0 0 0 0 0 0 0 0 0 0 0 0 0 0 0 0 0 0 0 0 0 0 0 0]\n",
      "[0 0 0 0 0 0 0 0 0 0 0 0 0 0 0 0 0 0 0 0 0 0 0 0 0 0 0 0]\n",
      "[0 0 0 0 0 0 0 0 0 0 0 0 0 0 0 0 0 0 0 0 0 0 0 0 0 0 0 0]\n",
      "[0 0 0 0 0 0 0 0 0 0 0 0 0 0 0 0 0 0 0 0 0 0 0 0 0 0 0 0]\n",
      "[0 0 0 0 0 0 0 0 0 0 0 0 0 0 0 0 0 0 0 0 0 0 0 0 0 0 0 0]\n",
      "[0 0 0 0 0 0 0 0 0 0 0 0 0 0 0 0 0 0 0 0 0 0 0 0 0 0 0 0]\n",
      "[0 0 0 0 0 0 0 0 0 0 0 0 0 0 0 0 0 0 0 0 0 0 0 0 0 0 0 0]\n",
      "[0 0 0 0 2 2 2 2 2 2 2 2 2 0 0 0 0 0 0 0 0 0 0 0 0 0 0 0]\n",
      "[0 0 0 2 1 1 1 1 1 1 1 1 1 1 2 0 2 2 0 0 0 0 0 0 0 0 0 0]\n",
      "[0 0 0 1 1 2 2 2 2 2 0 0 1 1 1 1 1 1 2 0 0 0 0 0 0 0 0 0]\n",
      "[0 0 0 2 2 0 0 0 0 0 0 0 2 2 2 2 1 1 1 1 0 0 0 0 0 0 0 0]\n",
      "[0 0 0 0 0 0 0 0 0 0 0 0 0 0 0 0 2 1 1 1 0 0 0 0 0 0 0 0]\n",
      "[0 0 0 0 0 0 0 0 0 0 0 2 2 0 2 2 1 1 0 1 2 0 0 0 0 0 0 0]\n",
      "[0 0 0 0 0 0 0 0 0 0 2 1 1 1 1 1 1 1 1 2 0 0 0 0 0 0 0 0]\n",
      "[0 0 0 0 0 0 0 0 0 0 2 1 1 1 1 1 1 1 1 1 2 0 0 0 0 0 0 0]\n",
      "[0 0 0 0 0 0 0 0 0 0 0 2 0 0 2 0 0 2 1 1 1 2 0 0 0 0 0 0]\n",
      "[0 0 0 0 0 0 0 0 0 0 0 0 0 0 0 0 0 0 2 0 1 0 2 0 0 0 0 0]\n",
      "[0 0 0 0 0 0 0 0 0 0 2 2 0 0 0 0 0 0 0 0 2 1 1 0 0 0 0 0]\n",
      "[0 0 0 0 0 0 0 0 0 0 1 1 2 2 2 2 2 2 2 2 1 1 1 0 0 0 0 0]\n",
      "[0 0 0 0 0 0 0 0 0 0 0 1 1 1 1 1 1 1 0 1 1 1 2 0 0 0 0 0]\n",
      "[0 0 0 0 0 0 0 0 0 0 0 2 2 1 1 2 2 1 1 1 2 2 0 0 0 0 0 0]\n",
      "[0 0 0 0 0 0 0 0 0 0 0 0 0 0 0 0 0 0 0 0 0 0 0 0 0 0 0 0]\n",
      "[0 0 0 0 0 0 0 0 0 0 0 0 0 0 0 0 0 0 0 0 0 0 0 0 0 0 0 0]\n",
      "[0 0 0 0 0 0 0 0 0 0 0 0 0 0 0 0 0 0 0 0 0 0 0 0 0 0 0 0]\n",
      "[0 0 0 0 0 0 0 0 0 0 0 0 0 0 0 0 0 0 0 0 0 0 0 0 0 0 0 0]\n",
      "[0 0 0 0 0 0 0 0 0 0 0 0 0 0 0 0 0 0 0 0 0 0 0 0 0 0 0 0]\n",
      "[0 0 0 0 0 0 0 0 0 0 0 0 0 0 0 0 0 0 0 0 0 0 0 0 0 0 0 0]\n"
     ]
    }
   ],
   "source": [
    "NumberShower(xtrain[250])"
   ]
  },
  {
   "cell_type": "markdown",
   "metadata": {},
   "source": [
    "It is obvious that the width algorithm is same as the height but for columns so we have the following function"
   ]
  },
  {
   "cell_type": "code",
   "execution_count": 15,
   "metadata": {},
   "outputs": [],
   "source": [
    "def WidthCalc(Image):\n",
    "    width = 0\n",
    "    for i in range(DATA_WIDTH):\n",
    "        if(sum(Image[:,i])!=0):\n",
    "            width+=1\n",
    "    return width"
   ]
  },
  {
   "cell_type": "code",
   "execution_count": 16,
   "metadata": {},
   "outputs": [
    {
     "data": {
      "text/plain": [
       "20"
      ]
     },
     "execution_count": 16,
     "metadata": {},
     "output_type": "execute_result"
    }
   ],
   "source": [
    "x = WidthCalc(xtrain[250])\n",
    "x"
   ]
  },
  {
   "cell_type": "markdown",
   "metadata": {},
   "source": [
    "Now we shall count the number of # in each image, to do so we must count the number of 1s in the matrix"
   ]
  },
  {
   "cell_type": "code",
   "execution_count": 17,
   "metadata": {},
   "outputs": [],
   "source": [
    "def HashtagCounter(Image):\n",
    "    HashtagNum = 0\n",
    "    for i in range(DATA_WIDTH):\n",
    "        HashtagNum+=np.count_nonzero((Image[:,i]==1))\n",
    "    return HashtagNum"
   ]
  },
  {
   "cell_type": "code",
   "execution_count": 18,
   "metadata": {},
   "outputs": [
    {
     "data": {
      "text/plain": [
       "71"
      ]
     },
     "execution_count": 18,
     "metadata": {},
     "output_type": "execute_result"
    }
   ],
   "source": [
    "x = HashtagCounter(xtrain[250])\n",
    "x"
   ]
  },
  {
   "cell_type": "markdown",
   "metadata": {},
   "source": [
    "After finding 3 features, we must go on to implement the naive bayes algorithm, we need a function to categorize the training data and validation data in the correct classes with the corresponding labels 0 to 9"
   ]
  },
  {
   "cell_type": "code",
   "execution_count": 19,
   "metadata": {},
   "outputs": [],
   "source": [
    "def CategorizerByIndice(TrainLabels,ValLabels):\n",
    "    TrainCategory = []\n",
    "    ValCategory = []\n",
    "    for i in range(0,10):\n",
    "        valtemp=[]\n",
    "        for k in range(1000):\n",
    "            if ValLabels[k]==i:\n",
    "                valtemp.append(k)\n",
    "        ValCategory.append(valtemp)\n",
    "    for l in range(0,10):\n",
    "        traintemp=[]\n",
    "        for j in range(5000):\n",
    "            if TrainLabels[j]==l:\n",
    "                traintemp.append(j)\n",
    "        TrainCategory.append(traintemp)\n",
    "    return TrainCategory,ValCategory"
   ]
  },
  {
   "cell_type": "code",
   "execution_count": 20,
   "metadata": {},
   "outputs": [],
   "source": [
    "def CategorizerByClass(Label,Category):\n",
    "    for m in range(10):\n",
    "        if Label in Category[m]:\n",
    "            return m\n",
    "        else:\n",
    "            continue"
   ]
  },
  {
   "cell_type": "code",
   "execution_count": 21,
   "metadata": {},
   "outputs": [],
   "source": [
    "TrainCategory,ValCategory= CategorizerByIndice(ytrain,yval)"
   ]
  },
  {
   "cell_type": "markdown",
   "metadata": {},
   "source": [
    "Now we write a function to calculate the prior probability."
   ]
  },
  {
   "cell_type": "code",
   "execution_count": 22,
   "metadata": {},
   "outputs": [],
   "source": [
    "def PriorProbCalc(TrainCategory):\n",
    "    Prior = []\n",
    "    for i in range(0,10):\n",
    "        prob = len(TrainCategory[i])/NUMBER_OF_TRAINING_EXAMPLES\n",
    "        Prior.append(prob)\n",
    "    return Prior"
   ]
  },
  {
   "cell_type": "code",
   "execution_count": 23,
   "metadata": {},
   "outputs": [
    {
     "data": {
      "text/plain": [
       "[0.0958, 0.1126, 0.0976, 0.0986, 0.107, 0.0868, 0.1002, 0.11, 0.0924, 0.099]"
      ]
     },
     "execution_count": 23,
     "metadata": {},
     "output_type": "execute_result"
    }
   ],
   "source": [
    "PriorProbs = PriorProbCalc(TrainCategory)\n",
    "PriorProbs"
   ]
  },
  {
   "cell_type": "markdown",
   "metadata": {},
   "source": [
    "Now we shall go on to implement the Naive Bayes algorithm, to do so we fit the probabiliy of each feature using a gaussian distribution as implied in class,Before doing so we need to save the features for each class accordingly."
   ]
  },
  {
   "cell_type": "code",
   "execution_count": 24,
   "metadata": {},
   "outputs": [],
   "source": [
    "def FeatureSaver(xtrain):\n",
    "    AllFeatures  = []\n",
    "    temp = []\n",
    "    for i in range(3):\n",
    "        AllFeatures.append(list(temp))\n",
    "    for j in range(10):\n",
    "        AllFeatures[0].append(list(temp))\n",
    "        AllFeatures[1].append(list(temp))  \n",
    "        AllFeatures[2].append(list(temp))       \n",
    "    for k in range(5000):\n",
    "        Category = CategorizerByClass(k,TrainCategory)\n",
    "        AllFeatures[0][Category].append(HeightCalc(xtrain[k]))\n",
    "        AllFeatures[1][Category].append(WidthCalc(xtrain[k]))\n",
    "        AllFeatures[2][Category].append(HashtagCounter(xtrain[k]))\n",
    "    return AllFeatures"
   ]
  },
  {
   "cell_type": "code",
   "execution_count": 25,
   "metadata": {},
   "outputs": [],
   "source": [
    "AllFeatures = FeatureSaver(xtrain)"
   ]
  },
  {
   "cell_type": "markdown",
   "metadata": {},
   "source": [
    "Now we go on to the Gaussian model we opt to use"
   ]
  },
  {
   "cell_type": "code",
   "execution_count": 26,
   "metadata": {},
   "outputs": [],
   "source": [
    "def Gaussian(xtrain,AllFeatures):\n",
    "    AllFeaturesGaussian  = []\n",
    "    temp = []\n",
    "    for i in range(3):\n",
    "        AllFeaturesGaussian.append(list(temp))\n",
    "    for j in range(10):\n",
    "        AllFeaturesGaussian[0].append(list(temp))\n",
    "        AllFeaturesGaussian[1].append(list(temp))  \n",
    "        AllFeaturesGaussian[2].append(list(temp))       \n",
    "    for k in range(10):\n",
    "        AllFeaturesGaussian[0][k].append(np.mean(AllFeatures[0][k]))\n",
    "        AllFeaturesGaussian[0][k].append(np.var(AllFeatures[0][k]))\n",
    "        AllFeaturesGaussian[1][k].append(np.mean(AllFeatures[1][k]))\n",
    "        AllFeaturesGaussian[1][k].append(np.var(AllFeatures[1][k]))\n",
    "        AllFeaturesGaussian[2][k].append(np.mean(AllFeatures[2][k]))\n",
    "        AllFeaturesGaussian[2][k].append(np.var(AllFeatures[2][k]))\n",
    "    return AllFeaturesGaussian"
   ]
  },
  {
   "cell_type": "code",
   "execution_count": 27,
   "metadata": {},
   "outputs": [],
   "source": [
    "AllFeaturesGaussian=Gaussian(xtrain,AllFeatures)"
   ]
  },
  {
   "cell_type": "markdown",
   "metadata": {},
   "source": [
    "In the next step we calculate P(X|Y=c) via a gaussian function and then we are just about done"
   ]
  },
  {
   "cell_type": "code",
   "execution_count": 28,
   "metadata": {},
   "outputs": [],
   "source": [
    "def NaiveBayesFinalAndAccuracy(AllFeatures,xval,yval,xtrain):\n",
    "    AllFeaturesGaussian=Gaussian(xtrain,AllFeatures)\n",
    "    Pred = []\n",
    "    true = 0\n",
    "    for k in range(1000):\n",
    "        ProbArr=[]\n",
    "        for i in range(0,10):\n",
    "            Prob1 = (1/(np.sqrt(AllFeaturesGaussian[0][i][1]*np.pi*2)))*np.exp((-.5*((HeightCalc(xval[k])-AllFeaturesGaussian[0][i][0])**2)/(AllFeaturesGaussian[0][i][1])))\n",
    "            Prob2 = (1/(np.sqrt(AllFeaturesGaussian[1][i][1]*np.pi*2)))*np.exp((-.5*((WidthCalc(xval[k])-AllFeaturesGaussian[1][i][0])**2)/(AllFeaturesGaussian[1][i][1])))\n",
    "            Prob3 = (1/(np.sqrt(AllFeaturesGaussian[2][i][1]*np.pi*2)))*np.exp((-.5*((HashtagCounter(xval[k])-AllFeaturesGaussian[2][i][0])**2)/(AllFeaturesGaussian[2][i][1])))\n",
    "            ProbArr.append(Prob1*Prob2*Prob3*PriorProbs[i])\n",
    "        Pred.append(np.argmax(ProbArr))\n",
    "    for i in range(len(Pred)):\n",
    "        if yval[i]==Pred[i]:\n",
    "            true+=1\n",
    "    Acc= true/NUMBER_OF_VALIDATION_EXAMPLES * 100\n",
    "    print(f'Accuracy of Naive Bayes is {Acc}%')"
   ]
  },
  {
   "cell_type": "code",
   "execution_count": 29,
   "metadata": {},
   "outputs": [
    {
     "name": "stdout",
     "output_type": "stream",
     "text": [
      "Accuracy of Naive Bayes is 22.7%\n"
     ]
    }
   ],
   "source": [
    "NaiveBayesFinalAndAccuracy(AllFeatures,xval,yval,xtrain)"
   ]
  }
 ],
 "metadata": {
  "kernelspec": {
   "display_name": "Python 3",
   "language": "python",
   "name": "python3"
  },
  "language_info": {
   "codemirror_mode": {
    "name": "ipython",
    "version": 3
   },
   "file_extension": ".py",
   "mimetype": "text/x-python",
   "name": "python",
   "nbconvert_exporter": "python",
   "pygments_lexer": "ipython3",
   "version": "3.8.3"
  }
 },
 "nbformat": 4,
 "nbformat_minor": 4
}
