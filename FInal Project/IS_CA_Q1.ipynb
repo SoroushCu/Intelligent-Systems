{
  "nbformat": 4,
  "nbformat_minor": 0,
  "metadata": {
    "colab": {
      "provenance": []
    },
    "kernelspec": {
      "name": "python3",
      "display_name": "Python 3"
    },
    "language_info": {
      "name": "python"
    },
    "gpuClass": "standard",
    "accelerator": "GPU"
  },
  "cells": [
    {
      "cell_type": "code",
      "source": [
        "!pip install numpy torch torchvision pytorch-ignite tensorboardX tensorboard opendatasets efficientnet-pytorch\n",
        "!pip3 install --upgrade alexnet_pytorch\n",
        "import numpy as np\n",
        "import pandas as pd\n",
        "import matplotlib.pyplot as plt\n",
        "from datetime import datetime as dt\n",
        "import torch\n",
        "from torch import optim, nn\n",
        "from torch.utils.data import DataLoader, TensorDataset, Dataset\n",
        "from torchvision.utils import make_grid\n",
        "from torchvision import transforms as T\n",
        "from torchvision import models, datasets\n",
        "from ignite.engine import Events, create_supervised_trainer, create_supervised_evaluator\n",
        "from ignite.metrics import Accuracy, Loss, Precision, Recall\n",
        "from ignite.handlers import LRScheduler, ModelCheckpoint, global_step_from_engine\n",
        "from ignite.contrib.handlers import ProgressBar, TensorboardLogger\n",
        "import ignite.contrib.engines.common as common\n",
        "import opendatasets as od\n",
        "import os\n",
        "from random import randint\n",
        "import urllib\n",
        "import zipfile\n",
        "from alexnet_pytorch import AlexNet"
      ],
      "metadata": {
        "id": "WX8QFD_4aZii"
      },
      "execution_count": null,
      "outputs": []
    },
    {
      "cell_type": "code",
      "source": [
        "use_cuda = torch.cuda.is_available()\n",
        "device = torch.device(\"cuda\" if use_cuda else \"cpu\")"
      ],
      "metadata": {
        "id": "eMnH8l8Af10G"
      },
      "execution_count": null,
      "outputs": []
    },
    {
      "cell_type": "code",
      "source": [
        "!wget http://cs231n.stanford.edu/tiny-imagenet-200.zip\n",
        "!unzip -qq 'tiny-imagenet-200.zip'\n",
        "DATA_DIR = 'tiny-imagenet-200' \n",
        "TRAIN_DIR = os.path.join(DATA_DIR, 'train') \n",
        "VALID_DIR = os.path.join(DATA_DIR, 'val')"
      ],
      "metadata": {
        "colab": {
          "base_uri": "https://localhost:8080/"
        },
        "id": "Vx3pPx5kgMza",
        "outputId": "b3971935-fccf-4c7b-b585-c8a1f8387836"
      },
      "execution_count": 25,
      "outputs": [
        {
          "output_type": "stream",
          "name": "stdout",
          "text": [
            "--2023-02-05 17:47:10--  http://cs231n.stanford.edu/tiny-imagenet-200.zip\n",
            "Resolving cs231n.stanford.edu (cs231n.stanford.edu)... 171.64.68.10\n",
            "Connecting to cs231n.stanford.edu (cs231n.stanford.edu)|171.64.68.10|:80... connected.\n",
            "HTTP request sent, awaiting response... 200 OK\n",
            "Length: 248100043 (237M) [application/zip]\n",
            "Saving to: ‘tiny-imagenet-200.zip.1’\n",
            "\n",
            "tiny-imagenet-200.z 100%[===================>] 236.61M  15.7MB/s    in 19s     \n",
            "\n",
            "2023-02-05 17:47:29 (12.8 MB/s) - ‘tiny-imagenet-200.zip.1’ saved [248100043/248100043]\n",
            "\n",
            "replace tiny-imagenet-200/words.txt? [y]es, [n]o, [A]ll, [N]one, [r]ename: "
          ]
        }
      ]
    },
    {
      "cell_type": "code",
      "source": [
        "def imshow(img):\n",
        "    npimg = img.numpy()\n",
        "    plt.imshow(np.transpose(npimg, (1, 2, 0)))\n",
        "    plt.show()\n",
        "    \n",
        "def show_batch(dataloader):\n",
        "    dataiter = iter(dataloader)\n",
        "    images, labels = dataiter.next()    \n",
        "    imshow(make_grid(images))\n",
        "    \n",
        "def show_image(dataloader):\n",
        "    dataiter = iter(dataloader)\n",
        "    images, labels = dataiter.next()\n",
        "    random_num = randint(0, len(images)-1)\n",
        "    imshow(images[random_num])\n",
        "    label = labels[random_num]\n",
        "    print(f'Label: {label}, Shape: {images[random_num].shape}')"
      ],
      "metadata": {
        "id": "aef-HIE7gXpS"
      },
      "execution_count": 26,
      "outputs": []
    },
    {
      "cell_type": "code",
      "source": [
        "def generate_dataloader(data, name, transform):\n",
        "    if data is None: \n",
        "        return None\n",
        "    if transform is None:\n",
        "        dataset = datasets.ImageFolder(data, transform=T.ToTensor())\n",
        "    else:\n",
        "        dataset = datasets.ImageFolder(data, transform=transform)\n",
        "    # idx = (dataset.targets==1) | (dataset.targets==2) | (dataset.targets==3) | (dataset.targets==4)\n",
        "    # dataset.targets = dataset.targets[idx]\n",
        "    # dataset.data = dataset.data[idx]/\n",
        "    if use_cuda:\n",
        "        kwargs = {\"pin_memory\": True, \"num_workers\": 1}\n",
        "    else:\n",
        "        kwargs = {}\n",
        "    dataloader = DataLoader(dataset, batch_size=batch_size, \n",
        "                        shuffle=(name==\"train\"), \n",
        "                        **kwargs)\n",
        "    return dataloader"
      ],
      "metadata": {
        "id": "XfcJ1hSAgc22"
      },
      "execution_count": 27,
      "outputs": []
    },
    {
      "cell_type": "code",
      "source": [
        "val_img_dir = os.path.join(VALID_DIR, 'images')\n",
        "fp = open(os.path.join(VALID_DIR, 'val_annotations.txt'), 'r')\n",
        "data = fp.readlines()\n",
        "val_img_dict = {}\n",
        "for line in data:\n",
        "    words = line.split('\\t')\n",
        "    val_img_dict[words[0]] = words[1]\n",
        "fp.close()\n",
        "{k: val_img_dict[k] for k in list(val_img_dict)[:10]}"
      ],
      "metadata": {
        "colab": {
          "base_uri": "https://localhost:8080/"
        },
        "id": "5sjLr4ZKgudW",
        "outputId": "4c89b62d-4962-4ba3-bddb-7a5460b2ec17"
      },
      "execution_count": 28,
      "outputs": [
        {
          "output_type": "execute_result",
          "data": {
            "text/plain": [
              "{'val_0.JPEG': 'n03444034',\n",
              " 'val_1.JPEG': 'n04067472',\n",
              " 'val_2.JPEG': 'n04070727',\n",
              " 'val_3.JPEG': 'n02808440',\n",
              " 'val_4.JPEG': 'n02808440',\n",
              " 'val_5.JPEG': 'n04399382',\n",
              " 'val_6.JPEG': 'n04179913',\n",
              " 'val_7.JPEG': 'n02823428',\n",
              " 'val_8.JPEG': 'n04146614',\n",
              " 'val_9.JPEG': 'n02226429'}"
            ]
          },
          "metadata": {},
          "execution_count": 28
        }
      ]
    },
    {
      "cell_type": "code",
      "source": [
        "for img, folder in val_img_dict.items():\n",
        "    newpath = (os.path.join(val_img_dir, folder))\n",
        "    if not os.path.exists(newpath):\n",
        "        os.makedirs(newpath)\n",
        "    if os.path.exists(os.path.join(val_img_dir, img)):\n",
        "        os.rename(os.path.join(val_img_dir, img), os.path.join(newpath, img))"
      ],
      "metadata": {
        "id": "O_bOyOV5g8Jc"
      },
      "execution_count": 29,
      "outputs": []
    },
    {
      "cell_type": "code",
      "source": [
        "preprocess_transform_pretrain = T.Compose([\n",
        "                T.Resize(256),\n",
        "                T.CenterCrop(224),\n",
        "                T.RandomHorizontalFlip(),\n",
        "                T.ToTensor(),\n",
        "                T.Normalize(mean=[0.485, 0.456, 0.406], \n",
        "                            std=[0.229, 0.224, 0.225])])"
      ],
      "metadata": {
        "id": "0dH4O6FjhBk7"
      },
      "execution_count": 30,
      "outputs": []
    },
    {
      "cell_type": "code",
      "source": [
        "batch_size = 64\n",
        "train_dataloader = generate_dataloader(TRAIN_DIR, \"train\",\n",
        "                                  transform=preprocess_transform_pretrain)\n",
        "test_dataloader = generate_dataloader(val_img_dir, \"val\",\n",
        "                                 transform=preprocess_transform_pretrain)"
      ],
      "metadata": {
        "id": "3uyISgavhEtl"
      },
      "execution_count": 31,
      "outputs": []
    },
    {
      "cell_type": "code",
      "source": [
        "model_alexnet = models.alexnet(pretrained=True)"
      ],
      "metadata": {
        "id": "EZ2KZphnhOfs"
      },
      "execution_count": 32,
      "outputs": []
    },
    {
      "cell_type": "code",
      "source": [
        "for name, param in model_alexnet.named_parameters() :\n",
        "    param.requires_grad = False\n",
        "    if name.startswith('classifier') : \n",
        "        param.requires_grad = False"
      ],
      "metadata": {
        "id": "UotPlmqJJpc7"
      },
      "execution_count": 33,
      "outputs": []
    },
    {
      "cell_type": "code",
      "source": [
        "class AlexNetConv2(nn.Module):\n",
        "    def init(self):\n",
        "        super(AlexNetConv2, self).init()\n",
        "        self.features = nn.Sequential(*list(model_alexnet.features.children())[:-7])\n",
        "    def forward(self, x):\n",
        "        x = self.features(x)\n",
        "        return x\n",
        "\n",
        "class AlexNetConv5(nn.Module):\n",
        "    def __init__(self):\n",
        "        super(AlexNetConv5, self).__init__()\n",
        "        self.featuresdfd = nn.Sequential(*list(model_alexnet.features.children())[:-4])\n",
        "    def forward(self, x):\n",
        "        x = self.featuresdfd(x)\n",
        "        return x\n",
        "\n",
        "class AlexNetFc8(nn.Module):\n",
        "    def init(self):\n",
        "        super(AlexNetFc8, self).init()\n",
        "        self.features = nn.Sequential(*list(model_alexnet.features.children())[:-1])\n",
        "    def forward(self, x):\n",
        "        x = self.features(x)\n",
        "        return x"
      ],
      "metadata": {
        "id": "jMDcpRSwh6KP"
      },
      "execution_count": 34,
      "outputs": []
    },
    {
      "cell_type": "code",
      "source": [
        "class MyModel_conv5(nn.Module):\n",
        "  def __init__(self, model):\n",
        "    super(MyModel_conv5, self).__init__()\n",
        "    self.pre_trained = model\n",
        "    self.seq = nn.Sequential(\n",
        "            nn.Conv2d(256, 256, 3, 1),\n",
        "            nn.Conv2d(256, 256, 3, 1),\n",
        "            nn.Conv2d(256, 256, 3, 1),\n",
        "            nn.ConvTranspose2d(256, 256, 5, 2),\n",
        "            nn.ConvTranspose2d(256, 128, 5, 2),\n",
        "            nn.ConvTranspose2d(128, 64, 5, 2),\n",
        "            nn.ConvTranspose2d(64, 32, 5, 2),\n",
        "            nn.ConvTranspose2d(32, 3, 5, 2), \n",
        "            nn.MaxPool2d((94, 94), stride=(1, 1)), \n",
        "            )\n",
        "          \n",
        "  def forward(self, x):\n",
        "    x = self.pre_trained(x)\n",
        "    x = self.seq(x)\n",
        "    return x\n",
        "\n",
        "pre_trained = AlexNetConv5()\n",
        "model = MyModel_conv5(pre_trained)"
      ],
      "metadata": {
        "id": "8vk7T13y9JXD"
      },
      "execution_count": 35,
      "outputs": []
    },
    {
      "cell_type": "code",
      "source": [
        "if torch.cuda.is_available():\n",
        "    model.cuda()"
      ],
      "metadata": {
        "id": "XmrxgITzDHHk"
      },
      "execution_count": 36,
      "outputs": []
    },
    {
      "cell_type": "code",
      "source": [
        "lr = 0.001  \n",
        "num_epochs = 3 \n",
        "log_interval = 300\n",
        "loss_func = nn.MSELoss()\n",
        "optimizer = optim.Adam(model.parameters(), lr=0.001)"
      ],
      "metadata": {
        "id": "eYNXiRA_je6t"
      },
      "execution_count": 37,
      "outputs": []
    },
    {
      "cell_type": "code",
      "source": [
        "def train(dataloader, model, loss_fn, optimizer):\n",
        "    size = len(dataloader.dataset)\n",
        "    loss_values = []\n",
        "    model.train()\n",
        "    running_loss = 0\n",
        "    for batch, (X, y) in enumerate(dataloader):\n",
        "        X, y = X.to(device), y.to(device)\n",
        "        pred = model(X)\n",
        "        loss = loss_fn(pred, X)\n",
        "        optimizer.zero_grad()\n",
        "        loss.backward()\n",
        "        optimizer.step()\n",
        "        running_loss += loss.item()\n",
        "        loss_values.append(running_loss)\n",
        "        if batch % 100 == 0:\n",
        "            loss, current = loss.item(), batch * len(X)\n",
        "            print(f\"loss: {loss:>7f}  [{current:>5d}/{size:>5d}]\")\n",
        "    plt.plot(np.array(loss_values), 'r')"
      ],
      "metadata": {
        "id": "6ojxeoavHltY"
      },
      "execution_count": 38,
      "outputs": []
    },
    {
      "cell_type": "code",
      "source": [
        "def test(dataloader, model, loss_fn):\n",
        "    loss_values = []\n",
        "    size = len(dataloader.dataset)\n",
        "    num_batches = len(dataloader)\n",
        "    model.eval()\n",
        "    test_loss, correct = 0, 0\n",
        "    with torch.no_grad():\n",
        "        for X, y in dataloader:\n",
        "            X, y = X.to(device), y.to(device)\n",
        "            pred = model(X)\n",
        "            test_loss += loss_fn(pred, X).item()\n",
        "            correct += (pred.argmax(1) == X).type(torch.float).sum().item()\n",
        "    test_loss /= num_batches\n",
        "    correct /= size\n",
        "    print(f\"Test Error: \\n Accuracy: {(100*correct):>0.1f}%, Avg loss: {test_loss:>8f} \\n\")"
      ],
      "metadata": {
        "id": "i3WNlqrfjxcK"
      },
      "execution_count": 39,
      "outputs": []
    },
    {
      "cell_type": "code",
      "source": [
        "epochs = 5\n",
        "for t in range(epochs):\n",
        "    print(f\"Epoch {t+1}\\n-------------------------------\")\n",
        "    train(train_dataloader, model, loss_func, optimizer)\n",
        "    test(test_dataloader, model, loss_func)\n",
        "print(\"Done!\")"
      ],
      "metadata": {
        "colab": {
          "base_uri": "https://localhost:8080/",
          "height": 935
        },
        "id": "4Kf9TlbrKC8m",
        "outputId": "81c689a3-b586-4337-90fc-29777a5180a4"
      },
      "execution_count": 40,
      "outputs": [
        {
          "output_type": "stream",
          "name": "stdout",
          "text": [
            "Epoch 1\n",
            "-------------------------------\n",
            "loss: 1.257729  [    0/100000]\n",
            "loss: 6.333055  [ 6400/100000]\n",
            "loss: 1.987759  [12800/100000]\n",
            "loss: 1.413734  [19200/100000]\n",
            "loss: 1.384520  [25600/100000]\n",
            "loss: 1.442773  [32000/100000]\n",
            "loss: 1.484911  [38400/100000]\n",
            "loss: 1.264908  [44800/100000]\n",
            "loss: 1.304636  [51200/100000]\n",
            "loss: 1.251667  [57600/100000]\n",
            "loss: 1.091855  [64000/100000]\n",
            "loss: 1.137109  [70400/100000]\n",
            "loss: 1.184907  [76800/100000]\n",
            "loss: 1.285305  [83200/100000]\n",
            "loss: 1.299947  [89600/100000]\n",
            "loss: 1.248004  [96000/100000]\n"
          ]
        },
        {
          "output_type": "error",
          "ename": "RuntimeError",
          "evalue": "ignored",
          "traceback": [
            "\u001b[0;31m---------------------------------------------------------------------------\u001b[0m",
            "\u001b[0;31mRuntimeError\u001b[0m                              Traceback (most recent call last)",
            "\u001b[0;32m<ipython-input-40-8a9cbef9a221>\u001b[0m in \u001b[0;36m<module>\u001b[0;34m\u001b[0m\n\u001b[1;32m      3\u001b[0m     \u001b[0mprint\u001b[0m\u001b[0;34m(\u001b[0m\u001b[0;34mf\"Epoch {t+1}\\n-------------------------------\"\u001b[0m\u001b[0;34m)\u001b[0m\u001b[0;34m\u001b[0m\u001b[0;34m\u001b[0m\u001b[0m\n\u001b[1;32m      4\u001b[0m     \u001b[0mtrain\u001b[0m\u001b[0;34m(\u001b[0m\u001b[0mtrain_dataloader\u001b[0m\u001b[0;34m,\u001b[0m \u001b[0mmodel\u001b[0m\u001b[0;34m,\u001b[0m \u001b[0mloss_func\u001b[0m\u001b[0;34m,\u001b[0m \u001b[0moptimizer\u001b[0m\u001b[0;34m)\u001b[0m\u001b[0;34m\u001b[0m\u001b[0;34m\u001b[0m\u001b[0m\n\u001b[0;32m----> 5\u001b[0;31m     \u001b[0mtest\u001b[0m\u001b[0;34m(\u001b[0m\u001b[0mtest_dataloader\u001b[0m\u001b[0;34m,\u001b[0m \u001b[0mmodel\u001b[0m\u001b[0;34m,\u001b[0m \u001b[0mloss_func\u001b[0m\u001b[0;34m)\u001b[0m\u001b[0;34m\u001b[0m\u001b[0;34m\u001b[0m\u001b[0m\n\u001b[0m\u001b[1;32m      6\u001b[0m \u001b[0mprint\u001b[0m\u001b[0;34m(\u001b[0m\u001b[0;34m\"Done!\"\u001b[0m\u001b[0;34m)\u001b[0m\u001b[0;34m\u001b[0m\u001b[0;34m\u001b[0m\u001b[0m\n",
            "\u001b[0;32m<ipython-input-39-3c1d0e47c27d>\u001b[0m in \u001b[0;36mtest\u001b[0;34m(dataloader, model, loss_fn)\u001b[0m\n\u001b[1;32m     10\u001b[0m             \u001b[0mpred\u001b[0m \u001b[0;34m=\u001b[0m \u001b[0mmodel\u001b[0m\u001b[0;34m(\u001b[0m\u001b[0mX\u001b[0m\u001b[0;34m)\u001b[0m\u001b[0;34m\u001b[0m\u001b[0;34m\u001b[0m\u001b[0m\n\u001b[1;32m     11\u001b[0m             \u001b[0mtest_loss\u001b[0m \u001b[0;34m+=\u001b[0m \u001b[0mloss_fn\u001b[0m\u001b[0;34m(\u001b[0m\u001b[0mpred\u001b[0m\u001b[0;34m,\u001b[0m \u001b[0mX\u001b[0m\u001b[0;34m)\u001b[0m\u001b[0;34m.\u001b[0m\u001b[0mitem\u001b[0m\u001b[0;34m(\u001b[0m\u001b[0;34m)\u001b[0m\u001b[0;34m\u001b[0m\u001b[0;34m\u001b[0m\u001b[0m\n\u001b[0;32m---> 12\u001b[0;31m             \u001b[0mcorrect\u001b[0m \u001b[0;34m+=\u001b[0m \u001b[0;34m(\u001b[0m\u001b[0mpred\u001b[0m\u001b[0;34m.\u001b[0m\u001b[0margmax\u001b[0m\u001b[0;34m(\u001b[0m\u001b[0;36m1\u001b[0m\u001b[0;34m)\u001b[0m \u001b[0;34m==\u001b[0m \u001b[0mX\u001b[0m\u001b[0;34m)\u001b[0m\u001b[0;34m.\u001b[0m\u001b[0mtype\u001b[0m\u001b[0;34m(\u001b[0m\u001b[0mtorch\u001b[0m\u001b[0;34m.\u001b[0m\u001b[0mfloat\u001b[0m\u001b[0;34m)\u001b[0m\u001b[0;34m.\u001b[0m\u001b[0msum\u001b[0m\u001b[0;34m(\u001b[0m\u001b[0;34m)\u001b[0m\u001b[0;34m.\u001b[0m\u001b[0mitem\u001b[0m\u001b[0;34m(\u001b[0m\u001b[0;34m)\u001b[0m\u001b[0;34m\u001b[0m\u001b[0;34m\u001b[0m\u001b[0m\n\u001b[0m\u001b[1;32m     13\u001b[0m     \u001b[0mtest_loss\u001b[0m \u001b[0;34m/=\u001b[0m \u001b[0mnum_batches\u001b[0m\u001b[0;34m\u001b[0m\u001b[0;34m\u001b[0m\u001b[0m\n\u001b[1;32m     14\u001b[0m     \u001b[0mcorrect\u001b[0m \u001b[0;34m/=\u001b[0m \u001b[0msize\u001b[0m\u001b[0;34m\u001b[0m\u001b[0;34m\u001b[0m\u001b[0m\n",
            "\u001b[0;31mRuntimeError\u001b[0m: The size of tensor a (64) must match the size of tensor b (3) at non-singleton dimension 1"
          ]
        },
        {
          "output_type": "display_data",
          "data": {
            "text/plain": [
              "<Figure size 432x288 with 1 Axes>"
            ],
            "image/png": "[encoded data removed]"
          },
          "metadata": {
            "needs_background": "light"
          }
        }
      ]
    },
    {
      "cell_type": "code",
      "source": [],
      "metadata": {
        "id": "ZZBiO4qKKc7S"
      },
      "execution_count": null,
      "outputs": []
    },
    {
      "cell_type": "code",
      "source": [],
      "metadata": {
        "id": "foXiTQZVQzpV"
      },
      "execution_count": null,
      "outputs": []
    }
  ]
}